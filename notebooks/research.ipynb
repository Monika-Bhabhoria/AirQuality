{
 "cells": [
  {
   "cell_type": "markdown",
   "id": "a9ab627f",
   "metadata": {},
   "source": [
    "Air Quality"
   ]
  },
  {
   "cell_type": "code",
   "execution_count": 1,
   "id": "cec8a5ea",
   "metadata": {},
   "outputs": [],
   "source": [
    "import numpy as np # linear algebra\n",
    "import pandas as pd "
   ]
  },
  {
   "cell_type": "code",
   "execution_count": 2,
   "id": "d29a728a",
   "metadata": {},
   "outputs": [],
   "source": [
    "df=pd.read_csv(\"data/updated_pollution_dataset.csv\",sep=',')"
   ]
  },
  {
   "cell_type": "code",
   "execution_count": 3,
   "id": "d3a99178",
   "metadata": {},
   "outputs": [
    {
     "data": {
      "text/html": [
       "<div>\n",
       "<style scoped>\n",
       "    .dataframe tbody tr th:only-of-type {\n",
       "        vertical-align: middle;\n",
       "    }\n",
       "\n",
       "    .dataframe tbody tr th {\n",
       "        vertical-align: top;\n",
       "    }\n",
       "\n",
       "    .dataframe thead th {\n",
       "        text-align: right;\n",
       "    }\n",
       "</style>\n",
       "<table border=\"1\" class=\"dataframe\">\n",
       "  <thead>\n",
       "    <tr style=\"text-align: right;\">\n",
       "      <th></th>\n",
       "      <th>Temperature</th>\n",
       "      <th>Humidity</th>\n",
       "      <th>PM2.5</th>\n",
       "      <th>PM10</th>\n",
       "      <th>NO2</th>\n",
       "      <th>SO2</th>\n",
       "      <th>CO</th>\n",
       "      <th>Proximity_to_Industrial_Areas</th>\n",
       "      <th>Population_Density</th>\n",
       "      <th>AirQuality</th>\n",
       "    </tr>\n",
       "  </thead>\n",
       "  <tbody>\n",
       "    <tr>\n",
       "      <th>0</th>\n",
       "      <td>29.8</td>\n",
       "      <td>59.1</td>\n",
       "      <td>5.2</td>\n",
       "      <td>17.9</td>\n",
       "      <td>18.9</td>\n",
       "      <td>9.2</td>\n",
       "      <td>1.72</td>\n",
       "      <td>6.3</td>\n",
       "      <td>319</td>\n",
       "      <td>Moderate</td>\n",
       "    </tr>\n",
       "    <tr>\n",
       "      <th>1</th>\n",
       "      <td>28.3</td>\n",
       "      <td>75.6</td>\n",
       "      <td>2.3</td>\n",
       "      <td>12.2</td>\n",
       "      <td>30.8</td>\n",
       "      <td>9.7</td>\n",
       "      <td>1.64</td>\n",
       "      <td>6.0</td>\n",
       "      <td>611</td>\n",
       "      <td>Moderate</td>\n",
       "    </tr>\n",
       "    <tr>\n",
       "      <th>2</th>\n",
       "      <td>23.1</td>\n",
       "      <td>74.7</td>\n",
       "      <td>26.7</td>\n",
       "      <td>33.8</td>\n",
       "      <td>24.4</td>\n",
       "      <td>12.6</td>\n",
       "      <td>1.63</td>\n",
       "      <td>5.2</td>\n",
       "      <td>619</td>\n",
       "      <td>Moderate</td>\n",
       "    </tr>\n",
       "    <tr>\n",
       "      <th>3</th>\n",
       "      <td>27.1</td>\n",
       "      <td>39.1</td>\n",
       "      <td>6.1</td>\n",
       "      <td>6.3</td>\n",
       "      <td>13.5</td>\n",
       "      <td>5.3</td>\n",
       "      <td>1.15</td>\n",
       "      <td>11.1</td>\n",
       "      <td>551</td>\n",
       "      <td>Good</td>\n",
       "    </tr>\n",
       "    <tr>\n",
       "      <th>4</th>\n",
       "      <td>26.5</td>\n",
       "      <td>70.7</td>\n",
       "      <td>6.9</td>\n",
       "      <td>16.0</td>\n",
       "      <td>21.9</td>\n",
       "      <td>5.6</td>\n",
       "      <td>1.01</td>\n",
       "      <td>12.7</td>\n",
       "      <td>303</td>\n",
       "      <td>Good</td>\n",
       "    </tr>\n",
       "  </tbody>\n",
       "</table>\n",
       "</div>"
      ],
      "text/plain": [
       "   Temperature  Humidity  PM2.5  PM10   NO2   SO2    CO  \\\n",
       "0         29.8      59.1    5.2  17.9  18.9   9.2  1.72   \n",
       "1         28.3      75.6    2.3  12.2  30.8   9.7  1.64   \n",
       "2         23.1      74.7   26.7  33.8  24.4  12.6  1.63   \n",
       "3         27.1      39.1    6.1   6.3  13.5   5.3  1.15   \n",
       "4         26.5      70.7    6.9  16.0  21.9   5.6  1.01   \n",
       "\n",
       "   Proximity_to_Industrial_Areas  Population_Density AirQuality  \n",
       "0                            6.3                 319   Moderate  \n",
       "1                            6.0                 611   Moderate  \n",
       "2                            5.2                 619   Moderate  \n",
       "3                           11.1                 551       Good  \n",
       "4                           12.7                 303       Good  "
      ]
     },
     "execution_count": 3,
     "metadata": {},
     "output_type": "execute_result"
    }
   ],
   "source": [
    "df.head()\n"
   ]
  },
  {
   "cell_type": "code",
   "execution_count": 4,
   "id": "7702ce1d",
   "metadata": {},
   "outputs": [
    {
     "data": {
      "text/plain": [
       "Index(['Temperature', 'Humidity', 'PM2.5', 'PM10', 'NO2', 'SO2', 'CO',\n",
       "       'Proximity_to_Industrial_Areas', 'Population_Density', 'AirQuality'],\n",
       "      dtype='object')"
      ]
     },
     "execution_count": 4,
     "metadata": {},
     "output_type": "execute_result"
    }
   ],
   "source": [
    "df.columns"
   ]
  },
  {
   "cell_type": "markdown",
   "id": "0d26303d",
   "metadata": {},
   "source": [
    "Exploratory Data Analysis"
   ]
  },
  {
   "cell_type": "code",
   "execution_count": 5,
   "id": "4c5838a7",
   "metadata": {},
   "outputs": [
    {
     "name": "stdout",
     "output_type": "stream",
     "text": [
      "<class 'pandas.core.frame.DataFrame'>\n",
      "RangeIndex: 5000 entries, 0 to 4999\n",
      "Data columns (total 10 columns):\n",
      " #   Column                         Non-Null Count  Dtype  \n",
      "---  ------                         --------------  -----  \n",
      " 0   Temperature                    5000 non-null   float64\n",
      " 1   Humidity                       5000 non-null   float64\n",
      " 2   PM2.5                          5000 non-null   float64\n",
      " 3   PM10                           5000 non-null   float64\n",
      " 4   NO2                            5000 non-null   float64\n",
      " 5   SO2                            5000 non-null   float64\n",
      " 6   CO                             5000 non-null   float64\n",
      " 7   Proximity_to_Industrial_Areas  5000 non-null   float64\n",
      " 8   Population_Density             5000 non-null   int64  \n",
      " 9   AirQuality                     5000 non-null   object \n",
      "dtypes: float64(8), int64(1), object(1)\n",
      "memory usage: 390.8+ KB\n"
     ]
    }
   ],
   "source": [
    "df.info()"
   ]
  },
  {
   "cell_type": "code",
   "execution_count": 6,
   "id": "16a888fc",
   "metadata": {},
   "outputs": [
    {
     "data": {
      "text/plain": [
       "Temperature                      0\n",
       "Humidity                         0\n",
       "PM2.5                            0\n",
       "PM10                             0\n",
       "NO2                              0\n",
       "SO2                              0\n",
       "CO                               0\n",
       "Proximity_to_Industrial_Areas    0\n",
       "Population_Density               0\n",
       "AirQuality                       0\n",
       "dtype: int64"
      ]
     },
     "execution_count": 6,
     "metadata": {},
     "output_type": "execute_result"
    }
   ],
   "source": [
    "df.isnull().sum()"
   ]
  },
  {
   "cell_type": "code",
   "execution_count": 7,
   "id": "6ea3786f",
   "metadata": {},
   "outputs": [
    {
     "data": {
      "text/html": [
       "<div>\n",
       "<style scoped>\n",
       "    .dataframe tbody tr th:only-of-type {\n",
       "        vertical-align: middle;\n",
       "    }\n",
       "\n",
       "    .dataframe tbody tr th {\n",
       "        vertical-align: top;\n",
       "    }\n",
       "\n",
       "    .dataframe thead th {\n",
       "        text-align: right;\n",
       "    }\n",
       "</style>\n",
       "<table border=\"1\" class=\"dataframe\">\n",
       "  <thead>\n",
       "    <tr style=\"text-align: right;\">\n",
       "      <th></th>\n",
       "      <th>Temperature</th>\n",
       "      <th>Humidity</th>\n",
       "      <th>PM2.5</th>\n",
       "      <th>PM10</th>\n",
       "      <th>NO2</th>\n",
       "      <th>SO2</th>\n",
       "      <th>CO</th>\n",
       "      <th>Proximity_to_Industrial_Areas</th>\n",
       "      <th>Population_Density</th>\n",
       "    </tr>\n",
       "  </thead>\n",
       "  <tbody>\n",
       "    <tr>\n",
       "      <th>count</th>\n",
       "      <td>5000.000000</td>\n",
       "      <td>5000.000000</td>\n",
       "      <td>5000.000000</td>\n",
       "      <td>5000.000000</td>\n",
       "      <td>5000.000000</td>\n",
       "      <td>5000.000000</td>\n",
       "      <td>5000.000000</td>\n",
       "      <td>5000.000000</td>\n",
       "      <td>5000.000000</td>\n",
       "    </tr>\n",
       "    <tr>\n",
       "      <th>mean</th>\n",
       "      <td>30.029020</td>\n",
       "      <td>70.056120</td>\n",
       "      <td>20.142140</td>\n",
       "      <td>30.218360</td>\n",
       "      <td>26.412100</td>\n",
       "      <td>10.014820</td>\n",
       "      <td>1.500354</td>\n",
       "      <td>8.425400</td>\n",
       "      <td>497.423800</td>\n",
       "    </tr>\n",
       "    <tr>\n",
       "      <th>std</th>\n",
       "      <td>6.720661</td>\n",
       "      <td>15.863577</td>\n",
       "      <td>24.554546</td>\n",
       "      <td>27.349199</td>\n",
       "      <td>8.895356</td>\n",
       "      <td>6.750303</td>\n",
       "      <td>0.546027</td>\n",
       "      <td>3.610944</td>\n",
       "      <td>152.754084</td>\n",
       "    </tr>\n",
       "    <tr>\n",
       "      <th>min</th>\n",
       "      <td>13.400000</td>\n",
       "      <td>36.000000</td>\n",
       "      <td>0.000000</td>\n",
       "      <td>-0.200000</td>\n",
       "      <td>7.400000</td>\n",
       "      <td>-6.200000</td>\n",
       "      <td>0.650000</td>\n",
       "      <td>2.500000</td>\n",
       "      <td>188.000000</td>\n",
       "    </tr>\n",
       "    <tr>\n",
       "      <th>25%</th>\n",
       "      <td>25.100000</td>\n",
       "      <td>58.300000</td>\n",
       "      <td>4.600000</td>\n",
       "      <td>12.300000</td>\n",
       "      <td>20.100000</td>\n",
       "      <td>5.100000</td>\n",
       "      <td>1.030000</td>\n",
       "      <td>5.400000</td>\n",
       "      <td>381.000000</td>\n",
       "    </tr>\n",
       "    <tr>\n",
       "      <th>50%</th>\n",
       "      <td>29.000000</td>\n",
       "      <td>69.800000</td>\n",
       "      <td>12.000000</td>\n",
       "      <td>21.700000</td>\n",
       "      <td>25.300000</td>\n",
       "      <td>8.000000</td>\n",
       "      <td>1.410000</td>\n",
       "      <td>7.900000</td>\n",
       "      <td>494.000000</td>\n",
       "    </tr>\n",
       "    <tr>\n",
       "      <th>75%</th>\n",
       "      <td>34.000000</td>\n",
       "      <td>80.300000</td>\n",
       "      <td>26.100000</td>\n",
       "      <td>38.100000</td>\n",
       "      <td>31.900000</td>\n",
       "      <td>13.725000</td>\n",
       "      <td>1.840000</td>\n",
       "      <td>11.100000</td>\n",
       "      <td>600.000000</td>\n",
       "    </tr>\n",
       "    <tr>\n",
       "      <th>max</th>\n",
       "      <td>58.600000</td>\n",
       "      <td>128.100000</td>\n",
       "      <td>295.000000</td>\n",
       "      <td>315.800000</td>\n",
       "      <td>64.900000</td>\n",
       "      <td>44.900000</td>\n",
       "      <td>3.720000</td>\n",
       "      <td>25.800000</td>\n",
       "      <td>957.000000</td>\n",
       "    </tr>\n",
       "  </tbody>\n",
       "</table>\n",
       "</div>"
      ],
      "text/plain": [
       "       Temperature     Humidity        PM2.5         PM10          NO2  \\\n",
       "count  5000.000000  5000.000000  5000.000000  5000.000000  5000.000000   \n",
       "mean     30.029020    70.056120    20.142140    30.218360    26.412100   \n",
       "std       6.720661    15.863577    24.554546    27.349199     8.895356   \n",
       "min      13.400000    36.000000     0.000000    -0.200000     7.400000   \n",
       "25%      25.100000    58.300000     4.600000    12.300000    20.100000   \n",
       "50%      29.000000    69.800000    12.000000    21.700000    25.300000   \n",
       "75%      34.000000    80.300000    26.100000    38.100000    31.900000   \n",
       "max      58.600000   128.100000   295.000000   315.800000    64.900000   \n",
       "\n",
       "               SO2           CO  Proximity_to_Industrial_Areas  \\\n",
       "count  5000.000000  5000.000000                    5000.000000   \n",
       "mean     10.014820     1.500354                       8.425400   \n",
       "std       6.750303     0.546027                       3.610944   \n",
       "min      -6.200000     0.650000                       2.500000   \n",
       "25%       5.100000     1.030000                       5.400000   \n",
       "50%       8.000000     1.410000                       7.900000   \n",
       "75%      13.725000     1.840000                      11.100000   \n",
       "max      44.900000     3.720000                      25.800000   \n",
       "\n",
       "       Population_Density  \n",
       "count         5000.000000  \n",
       "mean           497.423800  \n",
       "std            152.754084  \n",
       "min            188.000000  \n",
       "25%            381.000000  \n",
       "50%            494.000000  \n",
       "75%            600.000000  \n",
       "max            957.000000  "
      ]
     },
     "execution_count": 7,
     "metadata": {},
     "output_type": "execute_result"
    }
   ],
   "source": [
    "df.describe()"
   ]
  },
  {
   "cell_type": "code",
   "execution_count": 8,
   "id": "e4b45dc0",
   "metadata": {},
   "outputs": [
    {
     "data": {
      "text/plain": [
       "(5000, 10)"
      ]
     },
     "execution_count": 8,
     "metadata": {},
     "output_type": "execute_result"
    }
   ],
   "source": [
    "df.shape"
   ]
  },
  {
   "cell_type": "code",
   "execution_count": 9,
   "id": "4def8049",
   "metadata": {},
   "outputs": [
    {
     "data": {
      "text/plain": [
       "np.int64(0)"
      ]
     },
     "execution_count": 9,
     "metadata": {},
     "output_type": "execute_result"
    }
   ],
   "source": [
    "df.duplicated().sum()"
   ]
  },
  {
   "cell_type": "code",
   "execution_count": 10,
   "id": "48cfe216",
   "metadata": {},
   "outputs": [],
   "source": [
    "col = df.columns.tolist().index('AirQuality')"
   ]
  },
  {
   "cell_type": "code",
   "execution_count": 11,
   "id": "24d5ec17",
   "metadata": {},
   "outputs": [
    {
     "data": {
      "text/plain": [
       "9"
      ]
     },
     "execution_count": 11,
     "metadata": {},
     "output_type": "execute_result"
    }
   ],
   "source": [
    "col"
   ]
  },
  {
   "cell_type": "code",
   "execution_count": 12,
   "id": "4b4268bc",
   "metadata": {},
   "outputs": [],
   "source": [
    "col = df.columns.tolist().index('AirQuality')\n",
    "i1 = df.iloc[:,col] == 'Good'\n",
    "i2 = df.iloc[:,col] == 'Hazardous'\n",
    "i3 = df.iloc[:,col] == 'Moderate'\n",
    "i4 = df.iloc[:,col] == 'Poor'"
   ]
  },
  {
   "cell_type": "code",
   "execution_count": 13,
   "id": "ef3836af",
   "metadata": {},
   "outputs": [
    {
     "data": {
      "text/plain": [
       "0       False\n",
       "1       False\n",
       "2       False\n",
       "3        True\n",
       "4        True\n",
       "        ...  \n",
       "4995    False\n",
       "4996    False\n",
       "4997    False\n",
       "4998     True\n",
       "4999    False\n",
       "Name: AirQuality, Length: 5000, dtype: bool"
      ]
     },
     "execution_count": 13,
     "metadata": {},
     "output_type": "execute_result"
    }
   ],
   "source": [
    "i1"
   ]
  },
  {
   "cell_type": "code",
   "execution_count": 14,
   "id": "71b5deab",
   "metadata": {},
   "outputs": [],
   "source": [
    "df.iloc[i1,col] = 0\n",
    "df.iloc[i2,col] = 1\n",
    "df.iloc[i3,col] = 2\n",
    "df.iloc[i4,col] = 3"
   ]
  },
  {
   "cell_type": "code",
   "execution_count": 15,
   "id": "89572b0a",
   "metadata": {},
   "outputs": [
    {
     "data": {
      "text/plain": [
       "array([0, 1, 2, 3], dtype=object)"
      ]
     },
     "execution_count": 15,
     "metadata": {},
     "output_type": "execute_result"
    }
   ],
   "source": [
    "np.unique(df['AirQuality'])"
   ]
  },
  {
   "cell_type": "code",
   "execution_count": 16,
   "id": "e10a7274",
   "metadata": {},
   "outputs": [],
   "source": [
    "df['AirQuality'] = df['AirQuality'].astype('int')"
   ]
  },
  {
   "cell_type": "code",
   "execution_count": 17,
   "id": "796ca839-1fe6-4109-8d61-9fb272090bb8",
   "metadata": {},
   "outputs": [
    {
     "data": {
      "text/plain": [
       "Index(['Temperature', 'Humidity', 'PM2.5', 'PM10', 'NO2', 'SO2', 'CO',\n",
       "       'Proximity_to_Industrial_Areas', 'Population_Density', 'AirQuality'],\n",
       "      dtype='object')"
      ]
     },
     "execution_count": 17,
     "metadata": {},
     "output_type": "execute_result"
    }
   ],
   "source": [
    "df.columns"
   ]
  },
  {
   "cell_type": "code",
   "execution_count": 18,
   "id": "8df63b0d",
   "metadata": {},
   "outputs": [
    {
     "name": "stdout",
     "output_type": "stream",
     "text": [
      "<class 'pandas.core.frame.DataFrame'>\n",
      "RangeIndex: 5000 entries, 0 to 4999\n",
      "Data columns (total 10 columns):\n",
      " #   Column                         Non-Null Count  Dtype  \n",
      "---  ------                         --------------  -----  \n",
      " 0   Temperature                    5000 non-null   float64\n",
      " 1   Humidity                       5000 non-null   float64\n",
      " 2   PM2.5                          5000 non-null   float64\n",
      " 3   PM10                           5000 non-null   float64\n",
      " 4   NO2                            5000 non-null   float64\n",
      " 5   SO2                            5000 non-null   float64\n",
      " 6   CO                             5000 non-null   float64\n",
      " 7   Proximity_to_Industrial_Areas  5000 non-null   float64\n",
      " 8   Population_Density             5000 non-null   int64  \n",
      " 9   AirQuality                     5000 non-null   int64  \n",
      "dtypes: float64(8), int64(2)\n",
      "memory usage: 390.8 KB\n"
     ]
    }
   ],
   "source": [
    "df.info()"
   ]
  },
  {
   "cell_type": "code",
   "execution_count": 19,
   "id": "6c86692c",
   "metadata": {},
   "outputs": [],
   "source": [
    "Xall = df.drop(\"AirQuality\", axis = 1)\n",
    "yall = df[\"AirQuality\"]"
   ]
  },
  {
   "cell_type": "code",
   "execution_count": null,
   "id": "ed9f2534-265c-4e96-bf72-ec853037d375",
   "metadata": {},
   "outputs": [],
   "source": []
  },
  {
   "cell_type": "code",
   "execution_count": 20,
   "id": "4f6c5bbf",
   "metadata": {},
   "outputs": [],
   "source": [
    "from sklearn.model_selection import train_test_split\n",
    "X, Xt, y, yt = train_test_split(Xall, yall, test_size=0.2, stratify=yall, random_state=0)"
   ]
  },
  {
   "cell_type": "code",
   "execution_count": 21,
   "id": "ee957cfb",
   "metadata": {},
   "outputs": [],
   "source": [
    "from sklearn.preprocessing import MinMaxScaler\n",
    "scl = MinMaxScaler().fit(X)\n",
    "X = scl.transform(X)\n",
    "Xt = scl.transform(Xt)"
   ]
  },
  {
   "cell_type": "code",
   "execution_count": 22,
   "id": "5a94ff0a",
   "metadata": {},
   "outputs": [],
   "source": [
    "from sklearn.svm import SVC\n",
    "from sklearn.svm import LinearSVC\n",
    "from sklearn.ensemble import RandomForestClassifier\n",
    "from sklearn.ensemble import ExtraTreesClassifier\n",
    "#from xgboost import XGBClassifier\n",
    "from sklearn.neural_network import MLPClassifier\n",
    "from sklearn.naive_bayes import GaussianNB\n",
    "from sklearn.neighbors import KNeighborsClassifier\n",
    "from sklearn.tree import DecisionTreeClassifier\n",
    "from sklearn.linear_model import LogisticRegression\n",
    "from sklearn.discriminant_analysis import LinearDiscriminantAnalysis"
   ]
  },
  {
   "cell_type": "code",
   "execution_count": 23,
   "id": "cb2c982f",
   "metadata": {},
   "outputs": [],
   "source": [
    "from sklearn import metrics\n",
    "from sklearn.preprocessing import LabelBinarizer\n",
    "def perf_eval_mul(y_test, y_prob):  \n",
    "    yp = np.argmax(y_prob, axis=1)\n",
    "    ACC = metrics.balanced_accuracy_score(y_test, yp)\n",
    "    REC = metrics.recall_score(y_test, yp, average='macro')\n",
    "    PRE = metrics.precision_score(y_test, yp, average='macro')\n",
    "    MCC = metrics.matthews_corrcoef(y_test, yp)\n",
    "    F1 = metrics.f1_score(y_test, yp, average='macro')\n",
    "    y_onehot_test = LabelBinarizer().fit_transform(y_test)\n",
    "    AUC = metrics.roc_auc_score(y_onehot_test, y_prob, average='macro', multi_class='ovr')\n",
    "    print(\"ACC: \",ACC,\" MCC: \",MCC,\" AUC:\",AUC, \" PRE: \",PRE,\" REC: \",REC,\" F1: \",F1)\n",
    "    #return [ACC, MCC, AUC, PRE, REC, F1]"
   ]
  },
  {
   "cell_type": "code",
   "execution_count": 24,
   "id": "346c2719",
   "metadata": {},
   "outputs": [
    {
     "name": "stdout",
     "output_type": "stream",
     "text": [
      "ACC:  0.9195312499999999  MCC:  0.9252685837884286  AUC: 0.9933177858382937  PRE:  0.9276009554399964  REC:  0.9195312499999999  F1:  0.9233851138340176\n"
     ]
    }
   ],
   "source": [
    "from sklearn.model_selection import GridSearchCV\n",
    "from sklearn.model_selection import cross_val_predict\n",
    "param = [1,2]\n",
    "clf = SVC(random_state=0, probability=True)\n",
    "clf1 = GridSearchCV(estimator= clf, param_grid={'C': param }, cv=10).fit(X,y)\n",
    "yp = cross_val_predict(clf1.best_estimator_, X, y, cv=10, method ='predict_proba')\n",
    "perf_eval_mul(y,yp)"
   ]
  },
  {
   "cell_type": "code",
   "execution_count": 25,
   "id": "83207183",
   "metadata": {},
   "outputs": [
    {
     "name": "stdout",
     "output_type": "stream",
     "text": [
      "ACC:  0.9195312499999999  MCC:  0.9252685837884286  AUC: 0.9933177858382937  PRE:  0.9276009554399964  REC:  0.9195312499999999  F1:  0.9233851138340176\n"
     ]
    }
   ],
   "source": [
    "clf2 = clf1.best_estimator_\n",
    "clf2.fit(X, y)\n",
    "ytp = clf2.predict_proba(Xt)\n",
    "perf_eval_mul(y,yp)"
   ]
  },
  {
   "cell_type": "code",
   "execution_count": 26,
   "id": "532137a0-eb3c-4528-9479-2afdb1b3f9e4",
   "metadata": {},
   "outputs": [
    {
     "data": {
      "text/html": [
       "<style>#sk-container-id-1 {\n",
       "  /* Definition of color scheme common for light and dark mode */\n",
       "  --sklearn-color-text: #000;\n",
       "  --sklearn-color-text-muted: #666;\n",
       "  --sklearn-color-line: gray;\n",
       "  /* Definition of color scheme for unfitted estimators */\n",
       "  --sklearn-color-unfitted-level-0: #fff5e6;\n",
       "  --sklearn-color-unfitted-level-1: #f6e4d2;\n",
       "  --sklearn-color-unfitted-level-2: #ffe0b3;\n",
       "  --sklearn-color-unfitted-level-3: chocolate;\n",
       "  /* Definition of color scheme for fitted estimators */\n",
       "  --sklearn-color-fitted-level-0: #f0f8ff;\n",
       "  --sklearn-color-fitted-level-1: #d4ebff;\n",
       "  --sklearn-color-fitted-level-2: #b3dbfd;\n",
       "  --sklearn-color-fitted-level-3: cornflowerblue;\n",
       "\n",
       "  /* Specific color for light theme */\n",
       "  --sklearn-color-text-on-default-background: var(--sg-text-color, var(--theme-code-foreground, var(--jp-content-font-color1, black)));\n",
       "  --sklearn-color-background: var(--sg-background-color, var(--theme-background, var(--jp-layout-color0, white)));\n",
       "  --sklearn-color-border-box: var(--sg-text-color, var(--theme-code-foreground, var(--jp-content-font-color1, black)));\n",
       "  --sklearn-color-icon: #696969;\n",
       "\n",
       "  @media (prefers-color-scheme: dark) {\n",
       "    /* Redefinition of color scheme for dark theme */\n",
       "    --sklearn-color-text-on-default-background: var(--sg-text-color, var(--theme-code-foreground, var(--jp-content-font-color1, white)));\n",
       "    --sklearn-color-background: var(--sg-background-color, var(--theme-background, var(--jp-layout-color0, #111)));\n",
       "    --sklearn-color-border-box: var(--sg-text-color, var(--theme-code-foreground, var(--jp-content-font-color1, white)));\n",
       "    --sklearn-color-icon: #878787;\n",
       "  }\n",
       "}\n",
       "\n",
       "#sk-container-id-1 {\n",
       "  color: var(--sklearn-color-text);\n",
       "}\n",
       "\n",
       "#sk-container-id-1 pre {\n",
       "  padding: 0;\n",
       "}\n",
       "\n",
       "#sk-container-id-1 input.sk-hidden--visually {\n",
       "  border: 0;\n",
       "  clip: rect(1px 1px 1px 1px);\n",
       "  clip: rect(1px, 1px, 1px, 1px);\n",
       "  height: 1px;\n",
       "  margin: -1px;\n",
       "  overflow: hidden;\n",
       "  padding: 0;\n",
       "  position: absolute;\n",
       "  width: 1px;\n",
       "}\n",
       "\n",
       "#sk-container-id-1 div.sk-dashed-wrapped {\n",
       "  border: 1px dashed var(--sklearn-color-line);\n",
       "  margin: 0 0.4em 0.5em 0.4em;\n",
       "  box-sizing: border-box;\n",
       "  padding-bottom: 0.4em;\n",
       "  background-color: var(--sklearn-color-background);\n",
       "}\n",
       "\n",
       "#sk-container-id-1 div.sk-container {\n",
       "  /* jupyter's `normalize.less` sets `[hidden] { display: none; }`\n",
       "     but bootstrap.min.css set `[hidden] { display: none !important; }`\n",
       "     so we also need the `!important` here to be able to override the\n",
       "     default hidden behavior on the sphinx rendered scikit-learn.org.\n",
       "     See: https://github.com/scikit-learn/scikit-learn/issues/21755 */\n",
       "  display: inline-block !important;\n",
       "  position: relative;\n",
       "}\n",
       "\n",
       "#sk-container-id-1 div.sk-text-repr-fallback {\n",
       "  display: none;\n",
       "}\n",
       "\n",
       "div.sk-parallel-item,\n",
       "div.sk-serial,\n",
       "div.sk-item {\n",
       "  /* draw centered vertical line to link estimators */\n",
       "  background-image: linear-gradient(var(--sklearn-color-text-on-default-background), var(--sklearn-color-text-on-default-background));\n",
       "  background-size: 2px 100%;\n",
       "  background-repeat: no-repeat;\n",
       "  background-position: center center;\n",
       "}\n",
       "\n",
       "/* Parallel-specific style estimator block */\n",
       "\n",
       "#sk-container-id-1 div.sk-parallel-item::after {\n",
       "  content: \"\";\n",
       "  width: 100%;\n",
       "  border-bottom: 2px solid var(--sklearn-color-text-on-default-background);\n",
       "  flex-grow: 1;\n",
       "}\n",
       "\n",
       "#sk-container-id-1 div.sk-parallel {\n",
       "  display: flex;\n",
       "  align-items: stretch;\n",
       "  justify-content: center;\n",
       "  background-color: var(--sklearn-color-background);\n",
       "  position: relative;\n",
       "}\n",
       "\n",
       "#sk-container-id-1 div.sk-parallel-item {\n",
       "  display: flex;\n",
       "  flex-direction: column;\n",
       "}\n",
       "\n",
       "#sk-container-id-1 div.sk-parallel-item:first-child::after {\n",
       "  align-self: flex-end;\n",
       "  width: 50%;\n",
       "}\n",
       "\n",
       "#sk-container-id-1 div.sk-parallel-item:last-child::after {\n",
       "  align-self: flex-start;\n",
       "  width: 50%;\n",
       "}\n",
       "\n",
       "#sk-container-id-1 div.sk-parallel-item:only-child::after {\n",
       "  width: 0;\n",
       "}\n",
       "\n",
       "/* Serial-specific style estimator block */\n",
       "\n",
       "#sk-container-id-1 div.sk-serial {\n",
       "  display: flex;\n",
       "  flex-direction: column;\n",
       "  align-items: center;\n",
       "  background-color: var(--sklearn-color-background);\n",
       "  padding-right: 1em;\n",
       "  padding-left: 1em;\n",
       "}\n",
       "\n",
       "\n",
       "/* Toggleable style: style used for estimator/Pipeline/ColumnTransformer box that is\n",
       "clickable and can be expanded/collapsed.\n",
       "- Pipeline and ColumnTransformer use this feature and define the default style\n",
       "- Estimators will overwrite some part of the style using the `sk-estimator` class\n",
       "*/\n",
       "\n",
       "/* Pipeline and ColumnTransformer style (default) */\n",
       "\n",
       "#sk-container-id-1 div.sk-toggleable {\n",
       "  /* Default theme specific background. It is overwritten whether we have a\n",
       "  specific estimator or a Pipeline/ColumnTransformer */\n",
       "  background-color: var(--sklearn-color-background);\n",
       "}\n",
       "\n",
       "/* Toggleable label */\n",
       "#sk-container-id-1 label.sk-toggleable__label {\n",
       "  cursor: pointer;\n",
       "  display: flex;\n",
       "  width: 100%;\n",
       "  margin-bottom: 0;\n",
       "  padding: 0.5em;\n",
       "  box-sizing: border-box;\n",
       "  text-align: center;\n",
       "  align-items: start;\n",
       "  justify-content: space-between;\n",
       "  gap: 0.5em;\n",
       "}\n",
       "\n",
       "#sk-container-id-1 label.sk-toggleable__label .caption {\n",
       "  font-size: 0.6rem;\n",
       "  font-weight: lighter;\n",
       "  color: var(--sklearn-color-text-muted);\n",
       "}\n",
       "\n",
       "#sk-container-id-1 label.sk-toggleable__label-arrow:before {\n",
       "  /* Arrow on the left of the label */\n",
       "  content: \"▸\";\n",
       "  float: left;\n",
       "  margin-right: 0.25em;\n",
       "  color: var(--sklearn-color-icon);\n",
       "}\n",
       "\n",
       "#sk-container-id-1 label.sk-toggleable__label-arrow:hover:before {\n",
       "  color: var(--sklearn-color-text);\n",
       "}\n",
       "\n",
       "/* Toggleable content - dropdown */\n",
       "\n",
       "#sk-container-id-1 div.sk-toggleable__content {\n",
       "  max-height: 0;\n",
       "  max-width: 0;\n",
       "  overflow: hidden;\n",
       "  text-align: left;\n",
       "  /* unfitted */\n",
       "  background-color: var(--sklearn-color-unfitted-level-0);\n",
       "}\n",
       "\n",
       "#sk-container-id-1 div.sk-toggleable__content.fitted {\n",
       "  /* fitted */\n",
       "  background-color: var(--sklearn-color-fitted-level-0);\n",
       "}\n",
       "\n",
       "#sk-container-id-1 div.sk-toggleable__content pre {\n",
       "  margin: 0.2em;\n",
       "  border-radius: 0.25em;\n",
       "  color: var(--sklearn-color-text);\n",
       "  /* unfitted */\n",
       "  background-color: var(--sklearn-color-unfitted-level-0);\n",
       "}\n",
       "\n",
       "#sk-container-id-1 div.sk-toggleable__content.fitted pre {\n",
       "  /* unfitted */\n",
       "  background-color: var(--sklearn-color-fitted-level-0);\n",
       "}\n",
       "\n",
       "#sk-container-id-1 input.sk-toggleable__control:checked~div.sk-toggleable__content {\n",
       "  /* Expand drop-down */\n",
       "  max-height: 200px;\n",
       "  max-width: 100%;\n",
       "  overflow: auto;\n",
       "}\n",
       "\n",
       "#sk-container-id-1 input.sk-toggleable__control:checked~label.sk-toggleable__label-arrow:before {\n",
       "  content: \"▾\";\n",
       "}\n",
       "\n",
       "/* Pipeline/ColumnTransformer-specific style */\n",
       "\n",
       "#sk-container-id-1 div.sk-label input.sk-toggleable__control:checked~label.sk-toggleable__label {\n",
       "  color: var(--sklearn-color-text);\n",
       "  background-color: var(--sklearn-color-unfitted-level-2);\n",
       "}\n",
       "\n",
       "#sk-container-id-1 div.sk-label.fitted input.sk-toggleable__control:checked~label.sk-toggleable__label {\n",
       "  background-color: var(--sklearn-color-fitted-level-2);\n",
       "}\n",
       "\n",
       "/* Estimator-specific style */\n",
       "\n",
       "/* Colorize estimator box */\n",
       "#sk-container-id-1 div.sk-estimator input.sk-toggleable__control:checked~label.sk-toggleable__label {\n",
       "  /* unfitted */\n",
       "  background-color: var(--sklearn-color-unfitted-level-2);\n",
       "}\n",
       "\n",
       "#sk-container-id-1 div.sk-estimator.fitted input.sk-toggleable__control:checked~label.sk-toggleable__label {\n",
       "  /* fitted */\n",
       "  background-color: var(--sklearn-color-fitted-level-2);\n",
       "}\n",
       "\n",
       "#sk-container-id-1 div.sk-label label.sk-toggleable__label,\n",
       "#sk-container-id-1 div.sk-label label {\n",
       "  /* The background is the default theme color */\n",
       "  color: var(--sklearn-color-text-on-default-background);\n",
       "}\n",
       "\n",
       "/* On hover, darken the color of the background */\n",
       "#sk-container-id-1 div.sk-label:hover label.sk-toggleable__label {\n",
       "  color: var(--sklearn-color-text);\n",
       "  background-color: var(--sklearn-color-unfitted-level-2);\n",
       "}\n",
       "\n",
       "/* Label box, darken color on hover, fitted */\n",
       "#sk-container-id-1 div.sk-label.fitted:hover label.sk-toggleable__label.fitted {\n",
       "  color: var(--sklearn-color-text);\n",
       "  background-color: var(--sklearn-color-fitted-level-2);\n",
       "}\n",
       "\n",
       "/* Estimator label */\n",
       "\n",
       "#sk-container-id-1 div.sk-label label {\n",
       "  font-family: monospace;\n",
       "  font-weight: bold;\n",
       "  display: inline-block;\n",
       "  line-height: 1.2em;\n",
       "}\n",
       "\n",
       "#sk-container-id-1 div.sk-label-container {\n",
       "  text-align: center;\n",
       "}\n",
       "\n",
       "/* Estimator-specific */\n",
       "#sk-container-id-1 div.sk-estimator {\n",
       "  font-family: monospace;\n",
       "  border: 1px dotted var(--sklearn-color-border-box);\n",
       "  border-radius: 0.25em;\n",
       "  box-sizing: border-box;\n",
       "  margin-bottom: 0.5em;\n",
       "  /* unfitted */\n",
       "  background-color: var(--sklearn-color-unfitted-level-0);\n",
       "}\n",
       "\n",
       "#sk-container-id-1 div.sk-estimator.fitted {\n",
       "  /* fitted */\n",
       "  background-color: var(--sklearn-color-fitted-level-0);\n",
       "}\n",
       "\n",
       "/* on hover */\n",
       "#sk-container-id-1 div.sk-estimator:hover {\n",
       "  /* unfitted */\n",
       "  background-color: var(--sklearn-color-unfitted-level-2);\n",
       "}\n",
       "\n",
       "#sk-container-id-1 div.sk-estimator.fitted:hover {\n",
       "  /* fitted */\n",
       "  background-color: var(--sklearn-color-fitted-level-2);\n",
       "}\n",
       "\n",
       "/* Specification for estimator info (e.g. \"i\" and \"?\") */\n",
       "\n",
       "/* Common style for \"i\" and \"?\" */\n",
       "\n",
       ".sk-estimator-doc-link,\n",
       "a:link.sk-estimator-doc-link,\n",
       "a:visited.sk-estimator-doc-link {\n",
       "  float: right;\n",
       "  font-size: smaller;\n",
       "  line-height: 1em;\n",
       "  font-family: monospace;\n",
       "  background-color: var(--sklearn-color-background);\n",
       "  border-radius: 1em;\n",
       "  height: 1em;\n",
       "  width: 1em;\n",
       "  text-decoration: none !important;\n",
       "  margin-left: 0.5em;\n",
       "  text-align: center;\n",
       "  /* unfitted */\n",
       "  border: var(--sklearn-color-unfitted-level-1) 1pt solid;\n",
       "  color: var(--sklearn-color-unfitted-level-1);\n",
       "}\n",
       "\n",
       ".sk-estimator-doc-link.fitted,\n",
       "a:link.sk-estimator-doc-link.fitted,\n",
       "a:visited.sk-estimator-doc-link.fitted {\n",
       "  /* fitted */\n",
       "  border: var(--sklearn-color-fitted-level-1) 1pt solid;\n",
       "  color: var(--sklearn-color-fitted-level-1);\n",
       "}\n",
       "\n",
       "/* On hover */\n",
       "div.sk-estimator:hover .sk-estimator-doc-link:hover,\n",
       ".sk-estimator-doc-link:hover,\n",
       "div.sk-label-container:hover .sk-estimator-doc-link:hover,\n",
       ".sk-estimator-doc-link:hover {\n",
       "  /* unfitted */\n",
       "  background-color: var(--sklearn-color-unfitted-level-3);\n",
       "  color: var(--sklearn-color-background);\n",
       "  text-decoration: none;\n",
       "}\n",
       "\n",
       "div.sk-estimator.fitted:hover .sk-estimator-doc-link.fitted:hover,\n",
       ".sk-estimator-doc-link.fitted:hover,\n",
       "div.sk-label-container:hover .sk-estimator-doc-link.fitted:hover,\n",
       ".sk-estimator-doc-link.fitted:hover {\n",
       "  /* fitted */\n",
       "  background-color: var(--sklearn-color-fitted-level-3);\n",
       "  color: var(--sklearn-color-background);\n",
       "  text-decoration: none;\n",
       "}\n",
       "\n",
       "/* Span, style for the box shown on hovering the info icon */\n",
       ".sk-estimator-doc-link span {\n",
       "  display: none;\n",
       "  z-index: 9999;\n",
       "  position: relative;\n",
       "  font-weight: normal;\n",
       "  right: .2ex;\n",
       "  padding: .5ex;\n",
       "  margin: .5ex;\n",
       "  width: min-content;\n",
       "  min-width: 20ex;\n",
       "  max-width: 50ex;\n",
       "  color: var(--sklearn-color-text);\n",
       "  box-shadow: 2pt 2pt 4pt #999;\n",
       "  /* unfitted */\n",
       "  background: var(--sklearn-color-unfitted-level-0);\n",
       "  border: .5pt solid var(--sklearn-color-unfitted-level-3);\n",
       "}\n",
       "\n",
       ".sk-estimator-doc-link.fitted span {\n",
       "  /* fitted */\n",
       "  background: var(--sklearn-color-fitted-level-0);\n",
       "  border: var(--sklearn-color-fitted-level-3);\n",
       "}\n",
       "\n",
       ".sk-estimator-doc-link:hover span {\n",
       "  display: block;\n",
       "}\n",
       "\n",
       "/* \"?\"-specific style due to the `<a>` HTML tag */\n",
       "\n",
       "#sk-container-id-1 a.estimator_doc_link {\n",
       "  float: right;\n",
       "  font-size: 1rem;\n",
       "  line-height: 1em;\n",
       "  font-family: monospace;\n",
       "  background-color: var(--sklearn-color-background);\n",
       "  border-radius: 1rem;\n",
       "  height: 1rem;\n",
       "  width: 1rem;\n",
       "  text-decoration: none;\n",
       "  /* unfitted */\n",
       "  color: var(--sklearn-color-unfitted-level-1);\n",
       "  border: var(--sklearn-color-unfitted-level-1) 1pt solid;\n",
       "}\n",
       "\n",
       "#sk-container-id-1 a.estimator_doc_link.fitted {\n",
       "  /* fitted */\n",
       "  border: var(--sklearn-color-fitted-level-1) 1pt solid;\n",
       "  color: var(--sklearn-color-fitted-level-1);\n",
       "}\n",
       "\n",
       "/* On hover */\n",
       "#sk-container-id-1 a.estimator_doc_link:hover {\n",
       "  /* unfitted */\n",
       "  background-color: var(--sklearn-color-unfitted-level-3);\n",
       "  color: var(--sklearn-color-background);\n",
       "  text-decoration: none;\n",
       "}\n",
       "\n",
       "#sk-container-id-1 a.estimator_doc_link.fitted:hover {\n",
       "  /* fitted */\n",
       "  background-color: var(--sklearn-color-fitted-level-3);\n",
       "}\n",
       "</style><div id=\"sk-container-id-1\" class=\"sk-top-container\"><div class=\"sk-text-repr-fallback\"><pre>SVC(C=2, probability=True, random_state=0)</pre><b>In a Jupyter environment, please rerun this cell to show the HTML representation or trust the notebook. <br />On GitHub, the HTML representation is unable to render, please try loading this page with nbviewer.org.</b></div><div class=\"sk-container\" hidden><div class=\"sk-item\"><div class=\"sk-estimator fitted sk-toggleable\"><input class=\"sk-toggleable__control sk-hidden--visually\" id=\"sk-estimator-id-1\" type=\"checkbox\" checked><label for=\"sk-estimator-id-1\" class=\"sk-toggleable__label fitted sk-toggleable__label-arrow\"><div><div>SVC</div></div><div><a class=\"sk-estimator-doc-link fitted\" rel=\"noreferrer\" target=\"_blank\" href=\"https://scikit-learn.org/1.6/modules/generated/sklearn.svm.SVC.html\">?<span>Documentation for SVC</span></a><span class=\"sk-estimator-doc-link fitted\">i<span>Fitted</span></span></div></label><div class=\"sk-toggleable__content fitted\"><pre>SVC(C=2, probability=True, random_state=0)</pre></div> </div></div></div></div>"
      ],
      "text/plain": [
       "SVC(C=2, probability=True, random_state=0)"
      ]
     },
     "execution_count": 26,
     "metadata": {},
     "output_type": "execute_result"
    }
   ],
   "source": [
    "clf1.best_estimator_"
   ]
  },
  {
   "cell_type": "code",
   "execution_count": 27,
   "id": "4b208a05-d29b-4601-92fe-88ad9eedc198",
   "metadata": {},
   "outputs": [
    {
     "data": {
      "text/html": [
       "<style>#sk-container-id-2 {\n",
       "  /* Definition of color scheme common for light and dark mode */\n",
       "  --sklearn-color-text: #000;\n",
       "  --sklearn-color-text-muted: #666;\n",
       "  --sklearn-color-line: gray;\n",
       "  /* Definition of color scheme for unfitted estimators */\n",
       "  --sklearn-color-unfitted-level-0: #fff5e6;\n",
       "  --sklearn-color-unfitted-level-1: #f6e4d2;\n",
       "  --sklearn-color-unfitted-level-2: #ffe0b3;\n",
       "  --sklearn-color-unfitted-level-3: chocolate;\n",
       "  /* Definition of color scheme for fitted estimators */\n",
       "  --sklearn-color-fitted-level-0: #f0f8ff;\n",
       "  --sklearn-color-fitted-level-1: #d4ebff;\n",
       "  --sklearn-color-fitted-level-2: #b3dbfd;\n",
       "  --sklearn-color-fitted-level-3: cornflowerblue;\n",
       "\n",
       "  /* Specific color for light theme */\n",
       "  --sklearn-color-text-on-default-background: var(--sg-text-color, var(--theme-code-foreground, var(--jp-content-font-color1, black)));\n",
       "  --sklearn-color-background: var(--sg-background-color, var(--theme-background, var(--jp-layout-color0, white)));\n",
       "  --sklearn-color-border-box: var(--sg-text-color, var(--theme-code-foreground, var(--jp-content-font-color1, black)));\n",
       "  --sklearn-color-icon: #696969;\n",
       "\n",
       "  @media (prefers-color-scheme: dark) {\n",
       "    /* Redefinition of color scheme for dark theme */\n",
       "    --sklearn-color-text-on-default-background: var(--sg-text-color, var(--theme-code-foreground, var(--jp-content-font-color1, white)));\n",
       "    --sklearn-color-background: var(--sg-background-color, var(--theme-background, var(--jp-layout-color0, #111)));\n",
       "    --sklearn-color-border-box: var(--sg-text-color, var(--theme-code-foreground, var(--jp-content-font-color1, white)));\n",
       "    --sklearn-color-icon: #878787;\n",
       "  }\n",
       "}\n",
       "\n",
       "#sk-container-id-2 {\n",
       "  color: var(--sklearn-color-text);\n",
       "}\n",
       "\n",
       "#sk-container-id-2 pre {\n",
       "  padding: 0;\n",
       "}\n",
       "\n",
       "#sk-container-id-2 input.sk-hidden--visually {\n",
       "  border: 0;\n",
       "  clip: rect(1px 1px 1px 1px);\n",
       "  clip: rect(1px, 1px, 1px, 1px);\n",
       "  height: 1px;\n",
       "  margin: -1px;\n",
       "  overflow: hidden;\n",
       "  padding: 0;\n",
       "  position: absolute;\n",
       "  width: 1px;\n",
       "}\n",
       "\n",
       "#sk-container-id-2 div.sk-dashed-wrapped {\n",
       "  border: 1px dashed var(--sklearn-color-line);\n",
       "  margin: 0 0.4em 0.5em 0.4em;\n",
       "  box-sizing: border-box;\n",
       "  padding-bottom: 0.4em;\n",
       "  background-color: var(--sklearn-color-background);\n",
       "}\n",
       "\n",
       "#sk-container-id-2 div.sk-container {\n",
       "  /* jupyter's `normalize.less` sets `[hidden] { display: none; }`\n",
       "     but bootstrap.min.css set `[hidden] { display: none !important; }`\n",
       "     so we also need the `!important` here to be able to override the\n",
       "     default hidden behavior on the sphinx rendered scikit-learn.org.\n",
       "     See: https://github.com/scikit-learn/scikit-learn/issues/21755 */\n",
       "  display: inline-block !important;\n",
       "  position: relative;\n",
       "}\n",
       "\n",
       "#sk-container-id-2 div.sk-text-repr-fallback {\n",
       "  display: none;\n",
       "}\n",
       "\n",
       "div.sk-parallel-item,\n",
       "div.sk-serial,\n",
       "div.sk-item {\n",
       "  /* draw centered vertical line to link estimators */\n",
       "  background-image: linear-gradient(var(--sklearn-color-text-on-default-background), var(--sklearn-color-text-on-default-background));\n",
       "  background-size: 2px 100%;\n",
       "  background-repeat: no-repeat;\n",
       "  background-position: center center;\n",
       "}\n",
       "\n",
       "/* Parallel-specific style estimator block */\n",
       "\n",
       "#sk-container-id-2 div.sk-parallel-item::after {\n",
       "  content: \"\";\n",
       "  width: 100%;\n",
       "  border-bottom: 2px solid var(--sklearn-color-text-on-default-background);\n",
       "  flex-grow: 1;\n",
       "}\n",
       "\n",
       "#sk-container-id-2 div.sk-parallel {\n",
       "  display: flex;\n",
       "  align-items: stretch;\n",
       "  justify-content: center;\n",
       "  background-color: var(--sklearn-color-background);\n",
       "  position: relative;\n",
       "}\n",
       "\n",
       "#sk-container-id-2 div.sk-parallel-item {\n",
       "  display: flex;\n",
       "  flex-direction: column;\n",
       "}\n",
       "\n",
       "#sk-container-id-2 div.sk-parallel-item:first-child::after {\n",
       "  align-self: flex-end;\n",
       "  width: 50%;\n",
       "}\n",
       "\n",
       "#sk-container-id-2 div.sk-parallel-item:last-child::after {\n",
       "  align-self: flex-start;\n",
       "  width: 50%;\n",
       "}\n",
       "\n",
       "#sk-container-id-2 div.sk-parallel-item:only-child::after {\n",
       "  width: 0;\n",
       "}\n",
       "\n",
       "/* Serial-specific style estimator block */\n",
       "\n",
       "#sk-container-id-2 div.sk-serial {\n",
       "  display: flex;\n",
       "  flex-direction: column;\n",
       "  align-items: center;\n",
       "  background-color: var(--sklearn-color-background);\n",
       "  padding-right: 1em;\n",
       "  padding-left: 1em;\n",
       "}\n",
       "\n",
       "\n",
       "/* Toggleable style: style used for estimator/Pipeline/ColumnTransformer box that is\n",
       "clickable and can be expanded/collapsed.\n",
       "- Pipeline and ColumnTransformer use this feature and define the default style\n",
       "- Estimators will overwrite some part of the style using the `sk-estimator` class\n",
       "*/\n",
       "\n",
       "/* Pipeline and ColumnTransformer style (default) */\n",
       "\n",
       "#sk-container-id-2 div.sk-toggleable {\n",
       "  /* Default theme specific background. It is overwritten whether we have a\n",
       "  specific estimator or a Pipeline/ColumnTransformer */\n",
       "  background-color: var(--sklearn-color-background);\n",
       "}\n",
       "\n",
       "/* Toggleable label */\n",
       "#sk-container-id-2 label.sk-toggleable__label {\n",
       "  cursor: pointer;\n",
       "  display: flex;\n",
       "  width: 100%;\n",
       "  margin-bottom: 0;\n",
       "  padding: 0.5em;\n",
       "  box-sizing: border-box;\n",
       "  text-align: center;\n",
       "  align-items: start;\n",
       "  justify-content: space-between;\n",
       "  gap: 0.5em;\n",
       "}\n",
       "\n",
       "#sk-container-id-2 label.sk-toggleable__label .caption {\n",
       "  font-size: 0.6rem;\n",
       "  font-weight: lighter;\n",
       "  color: var(--sklearn-color-text-muted);\n",
       "}\n",
       "\n",
       "#sk-container-id-2 label.sk-toggleable__label-arrow:before {\n",
       "  /* Arrow on the left of the label */\n",
       "  content: \"▸\";\n",
       "  float: left;\n",
       "  margin-right: 0.25em;\n",
       "  color: var(--sklearn-color-icon);\n",
       "}\n",
       "\n",
       "#sk-container-id-2 label.sk-toggleable__label-arrow:hover:before {\n",
       "  color: var(--sklearn-color-text);\n",
       "}\n",
       "\n",
       "/* Toggleable content - dropdown */\n",
       "\n",
       "#sk-container-id-2 div.sk-toggleable__content {\n",
       "  max-height: 0;\n",
       "  max-width: 0;\n",
       "  overflow: hidden;\n",
       "  text-align: left;\n",
       "  /* unfitted */\n",
       "  background-color: var(--sklearn-color-unfitted-level-0);\n",
       "}\n",
       "\n",
       "#sk-container-id-2 div.sk-toggleable__content.fitted {\n",
       "  /* fitted */\n",
       "  background-color: var(--sklearn-color-fitted-level-0);\n",
       "}\n",
       "\n",
       "#sk-container-id-2 div.sk-toggleable__content pre {\n",
       "  margin: 0.2em;\n",
       "  border-radius: 0.25em;\n",
       "  color: var(--sklearn-color-text);\n",
       "  /* unfitted */\n",
       "  background-color: var(--sklearn-color-unfitted-level-0);\n",
       "}\n",
       "\n",
       "#sk-container-id-2 div.sk-toggleable__content.fitted pre {\n",
       "  /* unfitted */\n",
       "  background-color: var(--sklearn-color-fitted-level-0);\n",
       "}\n",
       "\n",
       "#sk-container-id-2 input.sk-toggleable__control:checked~div.sk-toggleable__content {\n",
       "  /* Expand drop-down */\n",
       "  max-height: 200px;\n",
       "  max-width: 100%;\n",
       "  overflow: auto;\n",
       "}\n",
       "\n",
       "#sk-container-id-2 input.sk-toggleable__control:checked~label.sk-toggleable__label-arrow:before {\n",
       "  content: \"▾\";\n",
       "}\n",
       "\n",
       "/* Pipeline/ColumnTransformer-specific style */\n",
       "\n",
       "#sk-container-id-2 div.sk-label input.sk-toggleable__control:checked~label.sk-toggleable__label {\n",
       "  color: var(--sklearn-color-text);\n",
       "  background-color: var(--sklearn-color-unfitted-level-2);\n",
       "}\n",
       "\n",
       "#sk-container-id-2 div.sk-label.fitted input.sk-toggleable__control:checked~label.sk-toggleable__label {\n",
       "  background-color: var(--sklearn-color-fitted-level-2);\n",
       "}\n",
       "\n",
       "/* Estimator-specific style */\n",
       "\n",
       "/* Colorize estimator box */\n",
       "#sk-container-id-2 div.sk-estimator input.sk-toggleable__control:checked~label.sk-toggleable__label {\n",
       "  /* unfitted */\n",
       "  background-color: var(--sklearn-color-unfitted-level-2);\n",
       "}\n",
       "\n",
       "#sk-container-id-2 div.sk-estimator.fitted input.sk-toggleable__control:checked~label.sk-toggleable__label {\n",
       "  /* fitted */\n",
       "  background-color: var(--sklearn-color-fitted-level-2);\n",
       "}\n",
       "\n",
       "#sk-container-id-2 div.sk-label label.sk-toggleable__label,\n",
       "#sk-container-id-2 div.sk-label label {\n",
       "  /* The background is the default theme color */\n",
       "  color: var(--sklearn-color-text-on-default-background);\n",
       "}\n",
       "\n",
       "/* On hover, darken the color of the background */\n",
       "#sk-container-id-2 div.sk-label:hover label.sk-toggleable__label {\n",
       "  color: var(--sklearn-color-text);\n",
       "  background-color: var(--sklearn-color-unfitted-level-2);\n",
       "}\n",
       "\n",
       "/* Label box, darken color on hover, fitted */\n",
       "#sk-container-id-2 div.sk-label.fitted:hover label.sk-toggleable__label.fitted {\n",
       "  color: var(--sklearn-color-text);\n",
       "  background-color: var(--sklearn-color-fitted-level-2);\n",
       "}\n",
       "\n",
       "/* Estimator label */\n",
       "\n",
       "#sk-container-id-2 div.sk-label label {\n",
       "  font-family: monospace;\n",
       "  font-weight: bold;\n",
       "  display: inline-block;\n",
       "  line-height: 1.2em;\n",
       "}\n",
       "\n",
       "#sk-container-id-2 div.sk-label-container {\n",
       "  text-align: center;\n",
       "}\n",
       "\n",
       "/* Estimator-specific */\n",
       "#sk-container-id-2 div.sk-estimator {\n",
       "  font-family: monospace;\n",
       "  border: 1px dotted var(--sklearn-color-border-box);\n",
       "  border-radius: 0.25em;\n",
       "  box-sizing: border-box;\n",
       "  margin-bottom: 0.5em;\n",
       "  /* unfitted */\n",
       "  background-color: var(--sklearn-color-unfitted-level-0);\n",
       "}\n",
       "\n",
       "#sk-container-id-2 div.sk-estimator.fitted {\n",
       "  /* fitted */\n",
       "  background-color: var(--sklearn-color-fitted-level-0);\n",
       "}\n",
       "\n",
       "/* on hover */\n",
       "#sk-container-id-2 div.sk-estimator:hover {\n",
       "  /* unfitted */\n",
       "  background-color: var(--sklearn-color-unfitted-level-2);\n",
       "}\n",
       "\n",
       "#sk-container-id-2 div.sk-estimator.fitted:hover {\n",
       "  /* fitted */\n",
       "  background-color: var(--sklearn-color-fitted-level-2);\n",
       "}\n",
       "\n",
       "/* Specification for estimator info (e.g. \"i\" and \"?\") */\n",
       "\n",
       "/* Common style for \"i\" and \"?\" */\n",
       "\n",
       ".sk-estimator-doc-link,\n",
       "a:link.sk-estimator-doc-link,\n",
       "a:visited.sk-estimator-doc-link {\n",
       "  float: right;\n",
       "  font-size: smaller;\n",
       "  line-height: 1em;\n",
       "  font-family: monospace;\n",
       "  background-color: var(--sklearn-color-background);\n",
       "  border-radius: 1em;\n",
       "  height: 1em;\n",
       "  width: 1em;\n",
       "  text-decoration: none !important;\n",
       "  margin-left: 0.5em;\n",
       "  text-align: center;\n",
       "  /* unfitted */\n",
       "  border: var(--sklearn-color-unfitted-level-1) 1pt solid;\n",
       "  color: var(--sklearn-color-unfitted-level-1);\n",
       "}\n",
       "\n",
       ".sk-estimator-doc-link.fitted,\n",
       "a:link.sk-estimator-doc-link.fitted,\n",
       "a:visited.sk-estimator-doc-link.fitted {\n",
       "  /* fitted */\n",
       "  border: var(--sklearn-color-fitted-level-1) 1pt solid;\n",
       "  color: var(--sklearn-color-fitted-level-1);\n",
       "}\n",
       "\n",
       "/* On hover */\n",
       "div.sk-estimator:hover .sk-estimator-doc-link:hover,\n",
       ".sk-estimator-doc-link:hover,\n",
       "div.sk-label-container:hover .sk-estimator-doc-link:hover,\n",
       ".sk-estimator-doc-link:hover {\n",
       "  /* unfitted */\n",
       "  background-color: var(--sklearn-color-unfitted-level-3);\n",
       "  color: var(--sklearn-color-background);\n",
       "  text-decoration: none;\n",
       "}\n",
       "\n",
       "div.sk-estimator.fitted:hover .sk-estimator-doc-link.fitted:hover,\n",
       ".sk-estimator-doc-link.fitted:hover,\n",
       "div.sk-label-container:hover .sk-estimator-doc-link.fitted:hover,\n",
       ".sk-estimator-doc-link.fitted:hover {\n",
       "  /* fitted */\n",
       "  background-color: var(--sklearn-color-fitted-level-3);\n",
       "  color: var(--sklearn-color-background);\n",
       "  text-decoration: none;\n",
       "}\n",
       "\n",
       "/* Span, style for the box shown on hovering the info icon */\n",
       ".sk-estimator-doc-link span {\n",
       "  display: none;\n",
       "  z-index: 9999;\n",
       "  position: relative;\n",
       "  font-weight: normal;\n",
       "  right: .2ex;\n",
       "  padding: .5ex;\n",
       "  margin: .5ex;\n",
       "  width: min-content;\n",
       "  min-width: 20ex;\n",
       "  max-width: 50ex;\n",
       "  color: var(--sklearn-color-text);\n",
       "  box-shadow: 2pt 2pt 4pt #999;\n",
       "  /* unfitted */\n",
       "  background: var(--sklearn-color-unfitted-level-0);\n",
       "  border: .5pt solid var(--sklearn-color-unfitted-level-3);\n",
       "}\n",
       "\n",
       ".sk-estimator-doc-link.fitted span {\n",
       "  /* fitted */\n",
       "  background: var(--sklearn-color-fitted-level-0);\n",
       "  border: var(--sklearn-color-fitted-level-3);\n",
       "}\n",
       "\n",
       ".sk-estimator-doc-link:hover span {\n",
       "  display: block;\n",
       "}\n",
       "\n",
       "/* \"?\"-specific style due to the `<a>` HTML tag */\n",
       "\n",
       "#sk-container-id-2 a.estimator_doc_link {\n",
       "  float: right;\n",
       "  font-size: 1rem;\n",
       "  line-height: 1em;\n",
       "  font-family: monospace;\n",
       "  background-color: var(--sklearn-color-background);\n",
       "  border-radius: 1rem;\n",
       "  height: 1rem;\n",
       "  width: 1rem;\n",
       "  text-decoration: none;\n",
       "  /* unfitted */\n",
       "  color: var(--sklearn-color-unfitted-level-1);\n",
       "  border: var(--sklearn-color-unfitted-level-1) 1pt solid;\n",
       "}\n",
       "\n",
       "#sk-container-id-2 a.estimator_doc_link.fitted {\n",
       "  /* fitted */\n",
       "  border: var(--sklearn-color-fitted-level-1) 1pt solid;\n",
       "  color: var(--sklearn-color-fitted-level-1);\n",
       "}\n",
       "\n",
       "/* On hover */\n",
       "#sk-container-id-2 a.estimator_doc_link:hover {\n",
       "  /* unfitted */\n",
       "  background-color: var(--sklearn-color-unfitted-level-3);\n",
       "  color: var(--sklearn-color-background);\n",
       "  text-decoration: none;\n",
       "}\n",
       "\n",
       "#sk-container-id-2 a.estimator_doc_link.fitted:hover {\n",
       "  /* fitted */\n",
       "  background-color: var(--sklearn-color-fitted-level-3);\n",
       "}\n",
       "</style><div id=\"sk-container-id-2\" class=\"sk-top-container\"><div class=\"sk-text-repr-fallback\"><pre>SVC(C=2, probability=True, random_state=0)</pre><b>In a Jupyter environment, please rerun this cell to show the HTML representation or trust the notebook. <br />On GitHub, the HTML representation is unable to render, please try loading this page with nbviewer.org.</b></div><div class=\"sk-container\" hidden><div class=\"sk-item\"><div class=\"sk-estimator fitted sk-toggleable\"><input class=\"sk-toggleable__control sk-hidden--visually\" id=\"sk-estimator-id-2\" type=\"checkbox\" checked><label for=\"sk-estimator-id-2\" class=\"sk-toggleable__label fitted sk-toggleable__label-arrow\"><div><div>SVC</div></div><div><a class=\"sk-estimator-doc-link fitted\" rel=\"noreferrer\" target=\"_blank\" href=\"https://scikit-learn.org/1.6/modules/generated/sklearn.svm.SVC.html\">?<span>Documentation for SVC</span></a><span class=\"sk-estimator-doc-link fitted\">i<span>Fitted</span></span></div></label><div class=\"sk-toggleable__content fitted\"><pre>SVC(C=2, probability=True, random_state=0)</pre></div> </div></div></div></div>"
      ],
      "text/plain": [
       "SVC(C=2, probability=True, random_state=0)"
      ]
     },
     "execution_count": 27,
     "metadata": {},
     "output_type": "execute_result"
    }
   ],
   "source": [
    "clf2"
   ]
  },
  {
   "cell_type": "code",
   "execution_count": 28,
   "id": "8af86230-dde0-4606-8775-33df71f07cb8",
   "metadata": {},
   "outputs": [
    {
     "data": {
      "text/plain": [
       "array([[1.59292035e-01, 4.84256243e-01, 1.24947938e-03, ...,\n",
       "        2.73615635e-01, 2.18884120e-01, 5.96879064e-01],\n",
       "       [2.61061947e-01, 2.95331162e-01, 3.70678884e-02, ...,\n",
       "        4.85342020e-01, 1.11587983e-01, 3.70611183e-01],\n",
       "       [1.83628319e-01, 3.21389794e-01, 9.57934194e-03, ...,\n",
       "        8.46905537e-02, 5.19313305e-01, 1.48244473e-01],\n",
       "       ...,\n",
       "       [3.51769912e-01, 2.43213898e-01, 4.16493128e-04, ...,\n",
       "        6.84039088e-02, 6.30901288e-01, 4.98049415e-01],\n",
       "       [2.78761062e-01, 5.68946797e-01, 5.95585173e-02, ...,\n",
       "        5.24429967e-01, 6.00858369e-02, 7.24317295e-01],\n",
       "       [3.80530973e-01, 6.21064061e-01, 2.29071220e-02, ...,\n",
       "        2.47557003e-01, 1.45922747e-01, 2.66579974e-01]])"
      ]
     },
     "execution_count": 28,
     "metadata": {},
     "output_type": "execute_result"
    }
   ],
   "source": [
    "X"
   ]
  },
  {
   "cell_type": "code",
   "execution_count": 29,
   "id": "0e04d451",
   "metadata": {},
   "outputs": [],
   "source": [
    "#clf2.predict(X[9])"
   ]
  },
  {
   "cell_type": "code",
   "execution_count": 30,
   "id": "178154d2-a6e7-4a99-9e00-b7aa24d32bbd",
   "metadata": {},
   "outputs": [
    {
     "data": {
      "text/plain": [
       "array([0])"
      ]
     },
     "execution_count": 30,
     "metadata": {},
     "output_type": "execute_result"
    }
   ],
   "source": [
    "clf2.predict([[0.44026549, 0.04234528, 0.06122449, 0.08024455, 0.23699422,\n",
    "        0.28571429, 0.13355049, 0.37339056, 0.19635891]])"
   ]
  },
  {
   "cell_type": "code",
   "execution_count": 31,
   "id": "f72997da-aedb-4c60-be00-9f1d0611dbfa",
   "metadata": {},
   "outputs": [
    {
     "data": {
      "text/plain": [
       "array([[0.42256637, 0.36482085, 0.15951687, 0.18494459, 0.50674374,\n",
       "        0.32876712, 0.19218241, 0.15450644, 0.22106632]])"
      ]
     },
     "execution_count": 31,
     "metadata": {},
     "output_type": "execute_result"
    }
   ],
   "source": [
    "Xt[[102]]\n"
   ]
  },
  {
   "cell_type": "code",
   "execution_count": 32,
   "id": "eda62fcf-e31a-4944-9885-b7a182d2e4e6",
   "metadata": {},
   "outputs": [
    {
     "data": {
      "text/plain": [
       "2679    0\n",
       "1087    3\n",
       "2126    1\n",
       "718     0\n",
       "3790    2\n",
       "       ..\n",
       "123     3\n",
       "260     2\n",
       "2670    0\n",
       "3272    0\n",
       "2375    1\n",
       "Name: AirQuality, Length: 1000, dtype: int64"
      ]
     },
     "execution_count": 32,
     "metadata": {},
     "output_type": "execute_result"
    }
   ],
   "source": [
    "yt\n"
   ]
  },
  {
   "cell_type": "code",
   "execution_count": 33,
   "id": "bab3ceeb-434d-4c76-b58d-9006cdc442ca",
   "metadata": {},
   "outputs": [
    {
     "data": {
      "text/plain": [
       "array([2])"
      ]
     },
     "execution_count": 33,
     "metadata": {},
     "output_type": "execute_result"
    }
   ],
   "source": [
    "clf2.predict([[0.42256637, 0.36482085, 0.15951687, 0.18494459, 0.50674374,\n",
    "        0.32876712, 0.19218241, 0.15450644, 0.22106632]])"
   ]
  },
  {
   "cell_type": "code",
   "execution_count": 34,
   "id": "c1bf0de5-7498-4d08-9e41-7ca1c07bbc2b",
   "metadata": {},
   "outputs": [
    {
     "name": "stdout",
     "output_type": "stream",
     "text": [
      "Requirement already satisfied: pyspark in c:\\users\\mnika\\appdata\\local\\programs\\python\\python39\\lib\\site-packages (3.5.4)\n",
      "Requirement already satisfied: py4j==0.10.9.7 in c:\\users\\mnika\\appdata\\local\\programs\\python\\python39\\lib\\site-packages (from pyspark) (0.10.9.7)\n"
     ]
    }
   ],
   "source": [
    "!pip install pyspark\n"
   ]
  },
  {
   "cell_type": "code",
   "execution_count": 35,
   "id": "ebee077c-265c-4298-b01d-b41b59bce323",
   "metadata": {},
   "outputs": [],
   "source": [
    "import pyspark\n"
   ]
  },
  {
   "cell_type": "code",
   "execution_count": 64,
   "id": "243ce11e-e717-431c-bbdb-efc38a7465dc",
   "metadata": {},
   "outputs": [],
   "source": [
    "import pandas as pd\n",
    "data=pd.read_csv(\"data/updated_pollution_dataset1.csv\",sep=',')"
   ]
  },
  {
   "cell_type": "code",
   "execution_count": 65,
   "id": "dad990c0-ab1b-47d4-8236-1eb581401531",
   "metadata": {},
   "outputs": [],
   "source": [
    "from pyspark.sql import SparkSession"
   ]
  },
  {
   "cell_type": "code",
   "execution_count": 66,
   "id": "2e593b42-f593-4c09-96eb-280bf302671c",
   "metadata": {},
   "outputs": [],
   "source": [
    "spark=SparkSession.builder.appName('Research').getOrCreate()"
   ]
  },
  {
   "cell_type": "code",
   "execution_count": 67,
   "id": "976c4c57-4cfa-4440-8b16-314ef93429e2",
   "metadata": {},
   "outputs": [
    {
     "data": {
      "text/html": [
       "\n",
       "            <div>\n",
       "                <p><b>SparkSession - in-memory</b></p>\n",
       "                \n",
       "        <div>\n",
       "            <p><b>SparkContext</b></p>\n",
       "\n",
       "            <p><a href=\"http://Monika:4040\">Spark UI</a></p>\n",
       "\n",
       "            <dl>\n",
       "              <dt>Version</dt>\n",
       "                <dd><code>v3.5.4</code></dd>\n",
       "              <dt>Master</dt>\n",
       "                <dd><code>local[*]</code></dd>\n",
       "              <dt>AppName</dt>\n",
       "                <dd><code>Research</code></dd>\n",
       "            </dl>\n",
       "        </div>\n",
       "        \n",
       "            </div>\n",
       "        "
      ],
      "text/plain": [
       "<pyspark.sql.session.SparkSession at 0x11761ea48b0>"
      ]
     },
     "execution_count": 67,
     "metadata": {},
     "output_type": "execute_result"
    }
   ],
   "source": [
    "spark\n"
   ]
  },
  {
   "cell_type": "code",
   "execution_count": 68,
   "id": "fad245bb-094c-412f-848b-04289ef3811f",
   "metadata": {},
   "outputs": [],
   "source": [
    "df_spark=spark.read.csv(\"data/updated_pollution_dataset1.csv\")"
   ]
  },
  {
   "cell_type": "code",
   "execution_count": 69,
   "id": "3fa1e2e5-9462-453b-b24c-a429ac8a77a3",
   "metadata": {},
   "outputs": [
    {
     "data": {
      "text/plain": [
       "DataFrame[_c0: string, _c1: string, _c2: string, _c3: string, _c4: string, _c5: string, _c6: string, _c7: string, _c8: string, _c9: string]"
      ]
     },
     "execution_count": 69,
     "metadata": {},
     "output_type": "execute_result"
    }
   ],
   "source": [
    "df_spark\n"
   ]
  },
  {
   "cell_type": "code",
   "execution_count": 70,
   "id": "3fadc6d1-401e-4f65-a6a0-eb97e2ce5e1f",
   "metadata": {},
   "outputs": [
    {
     "name": "stdout",
     "output_type": "stream",
     "text": [
      "+-----------+--------+----+----+----+----+----+--------------------+------------------+----------+\n",
      "|        _c0|     _c1| _c2| _c3| _c4| _c5| _c6|                 _c7|               _c8|       _c9|\n",
      "+-----------+--------+----+----+----+----+----+--------------------+------------------+----------+\n",
      "|Temperature|Humidity|PM25|PM10| NO2| SO2|  CO|Proximity_to_Indu...|Population_Density|AirQuality|\n",
      "|       29.8|    59.1| 5.2|17.9|18.9| 9.2|1.72|                 6.3|               319|  Moderate|\n",
      "|       28.3|    75.6| 2.3|12.2|30.8| 9.7|1.64|                   6|               611|  Moderate|\n",
      "|       23.1|    74.7|26.7|33.8|24.4|12.6|1.63|                 5.2|               619|  Moderate|\n",
      "|       27.1|    39.1| 6.1| 6.3|13.5| 5.3|1.15|                11.1|               551|      Good|\n",
      "|       26.5|    70.7| 6.9|  16|21.9| 5.6|1.01|                12.7|               303|      Good|\n",
      "|       39.4|    96.6|14.6|35.5|42.9|17.9|1.82|                 3.1|               674| Hazardous|\n",
      "|       41.7|    82.5| 1.7|15.8|31.1|12.7| 1.8|                 4.6|               735|      Poor|\n",
      "|         31|    59.6|   5|16.8|24.2|13.6|1.38|                 6.3|               443|  Moderate|\n",
      "|       29.4|    93.8|10.3|22.7|45.1|11.8|2.03|                 5.4|               486|      Poor|\n",
      "|       33.2|    80.5|11.1|24.4|  32|15.3|1.69|                 4.9|               535|      Poor|\n",
      "|       26.3|    65.7| 1.3| 5.5|18.3| 5.9|0.85|                  13|               529|      Good|\n",
      "|       32.5|    51.2| 1.6|10.5|21.6|19.3|1.53|                 5.9|               519|  Moderate|\n",
      "|         20|    53.3| 3.7|12.9|26.1| 6.6|1.09|                10.2|               538|      Good|\n",
      "|       28.6|    53.7|28.9|  34|23.2| 4.5|1.02|                  11|               508|      Good|\n",
      "|       22.3|    80.5| 4.5|  12|17.2| 6.3|1.18|                10.4|               232|      Good|\n",
      "|         32|    78.9|22.4|29.9|27.5|11.8|1.48|                 7.9|               444|  Moderate|\n",
      "|       22.9|    75.4| 4.5|10.4|18.4| 3.7|0.96|                14.4|               359|      Good|\n",
      "|       37.6|    81.2|28.1|56.6|46.7|13.7|1.85|                 4.1|               560|      Poor|\n",
      "|       34.7|    59.3|   9|15.7|28.5| 7.1|1.52|                 6.1|               437|  Moderate|\n",
      "+-----------+--------+----+----+----+----+----+--------------------+------------------+----------+\n",
      "only showing top 20 rows\n",
      "\n"
     ]
    }
   ],
   "source": [
    "df_spark.show()"
   ]
  },
  {
   "cell_type": "code",
   "execution_count": 71,
   "id": "da7e37b8-6239-4d6e-a59a-9d6666a3f5bf",
   "metadata": {},
   "outputs": [
    {
     "data": {
      "text/plain": [
       "DataFrame[Temperature: string, Humidity: string, PM25: string, PM10: string, NO2: string, SO2: string, CO: string, Proximity_to_Industrial_Areas: string, Population_Density: string, AirQuality: string]"
      ]
     },
     "execution_count": 71,
     "metadata": {},
     "output_type": "execute_result"
    }
   ],
   "source": [
    "spark.read.option('header', 'true').csv(\"data/updated_pollution_dataset1.csv\",sep=',')"
   ]
  },
  {
   "cell_type": "code",
   "execution_count": 73,
   "id": "11118ca4-1169-46da-b536-be9e4924dc8d",
   "metadata": {},
   "outputs": [
    {
     "name": "stdout",
     "output_type": "stream",
     "text": [
      "+-----------+--------+----+----+----+----+----+-----------------------------+------------------+----------+\n",
      "|Temperature|Humidity|PM25|PM10| NO2| SO2|  CO|Proximity_to_Industrial_Areas|Population_Density|AirQuality|\n",
      "+-----------+--------+----+----+----+----+----+-----------------------------+------------------+----------+\n",
      "|       29.8|    59.1| 5.2|17.9|18.9| 9.2|1.72|                          6.3|               319|  Moderate|\n",
      "|       28.3|    75.6| 2.3|12.2|30.8| 9.7|1.64|                            6|               611|  Moderate|\n",
      "|       23.1|    74.7|26.7|33.8|24.4|12.6|1.63|                          5.2|               619|  Moderate|\n",
      "|       27.1|    39.1| 6.1| 6.3|13.5| 5.3|1.15|                         11.1|               551|      Good|\n",
      "|       26.5|    70.7| 6.9|  16|21.9| 5.6|1.01|                         12.7|               303|      Good|\n",
      "|       39.4|    96.6|14.6|35.5|42.9|17.9|1.82|                          3.1|               674| Hazardous|\n",
      "|       41.7|    82.5| 1.7|15.8|31.1|12.7| 1.8|                          4.6|               735|      Poor|\n",
      "|         31|    59.6|   5|16.8|24.2|13.6|1.38|                          6.3|               443|  Moderate|\n",
      "|       29.4|    93.8|10.3|22.7|45.1|11.8|2.03|                          5.4|               486|      Poor|\n",
      "|       33.2|    80.5|11.1|24.4|  32|15.3|1.69|                          4.9|               535|      Poor|\n",
      "|       26.3|    65.7| 1.3| 5.5|18.3| 5.9|0.85|                           13|               529|      Good|\n",
      "|       32.5|    51.2| 1.6|10.5|21.6|19.3|1.53|                          5.9|               519|  Moderate|\n",
      "|         20|    53.3| 3.7|12.9|26.1| 6.6|1.09|                         10.2|               538|      Good|\n",
      "|       28.6|    53.7|28.9|  34|23.2| 4.5|1.02|                           11|               508|      Good|\n",
      "|       22.3|    80.5| 4.5|  12|17.2| 6.3|1.18|                         10.4|               232|      Good|\n",
      "|         32|    78.9|22.4|29.9|27.5|11.8|1.48|                          7.9|               444|  Moderate|\n",
      "|       22.9|    75.4| 4.5|10.4|18.4| 3.7|0.96|                         14.4|               359|      Good|\n",
      "|       37.6|    81.2|28.1|56.6|46.7|13.7|1.85|                          4.1|               560|      Poor|\n",
      "|       34.7|    59.3|   9|15.7|28.5| 7.1|1.52|                          6.1|               437|  Moderate|\n",
      "|       37.8|    97.2| 0.6|24.6|37.1|11.7|1.13|                          7.7|               803|      Poor|\n",
      "+-----------+--------+----+----+----+----+----+-----------------------------+------------------+----------+\n",
      "only showing top 20 rows\n",
      "\n"
     ]
    }
   ],
   "source": [
    "spark.read.option('header', 'true').csv(\"data/updated_pollution_dataset1.csv\",sep=',').show()"
   ]
  },
  {
   "cell_type": "code",
   "execution_count": 74,
   "id": "bf570cba-be73-4f0d-a015-6f8a4e5ced2f",
   "metadata": {},
   "outputs": [],
   "source": [
    "spark_df=spark.read.option('header', 'true').csv(\"data/updated_pollution_dataset1.csv\",sep=',')"
   ]
  },
  {
   "cell_type": "code",
   "execution_count": 75,
   "id": "01236f7f-ac4a-4f26-a4cc-602ddcf655b1",
   "metadata": {},
   "outputs": [
    {
     "data": {
      "text/plain": [
       "pyspark.sql.dataframe.DataFrame"
      ]
     },
     "execution_count": 75,
     "metadata": {},
     "output_type": "execute_result"
    }
   ],
   "source": [
    "type(spark_df)"
   ]
  },
  {
   "cell_type": "code",
   "execution_count": 78,
   "id": "fa7b71ca-d3df-45c9-ae7b-6100bab9bfc7",
   "metadata": {},
   "outputs": [
    {
     "data": {
      "text/plain": [
       "[Row(Temperature='29.8', Humidity='59.1', PM25='5.2', PM10='17.9', NO2='18.9', SO2='9.2', CO='1.72', Proximity_to_Industrial_Areas='6.3', Population_Density='319', AirQuality='Moderate'),\n",
       " Row(Temperature='28.3', Humidity='75.6', PM25='2.3', PM10='12.2', NO2='30.8', SO2='9.7', CO='1.64', Proximity_to_Industrial_Areas='6', Population_Density='611', AirQuality='Moderate'),\n",
       " Row(Temperature='23.1', Humidity='74.7', PM25='26.7', PM10='33.8', NO2='24.4', SO2='12.6', CO='1.63', Proximity_to_Industrial_Areas='5.2', Population_Density='619', AirQuality='Moderate'),\n",
       " Row(Temperature='27.1', Humidity='39.1', PM25='6.1', PM10='6.3', NO2='13.5', SO2='5.3', CO='1.15', Proximity_to_Industrial_Areas='11.1', Population_Density='551', AirQuality='Good'),\n",
       " Row(Temperature='26.5', Humidity='70.7', PM25='6.9', PM10='16', NO2='21.9', SO2='5.6', CO='1.01', Proximity_to_Industrial_Areas='12.7', Population_Density='303', AirQuality='Good')]"
      ]
     },
     "execution_count": 78,
     "metadata": {},
     "output_type": "execute_result"
    }
   ],
   "source": [
    "spark_df.head(5)"
   ]
  },
  {
   "cell_type": "code",
   "execution_count": 79,
   "id": "61485bdb-6939-4c51-9228-019959b8f5a1",
   "metadata": {},
   "outputs": [
    {
     "name": "stdout",
     "output_type": "stream",
     "text": [
      "root\n",
      " |-- Temperature: string (nullable = true)\n",
      " |-- Humidity: string (nullable = true)\n",
      " |-- PM25: string (nullable = true)\n",
      " |-- PM10: string (nullable = true)\n",
      " |-- NO2: string (nullable = true)\n",
      " |-- SO2: string (nullable = true)\n",
      " |-- CO: string (nullable = true)\n",
      " |-- Proximity_to_Industrial_Areas: string (nullable = true)\n",
      " |-- Population_Density: string (nullable = true)\n",
      " |-- AirQuality: string (nullable = true)\n",
      "\n"
     ]
    }
   ],
   "source": [
    "spark_df.printSchema()"
   ]
  },
  {
   "cell_type": "code",
   "execution_count": 80,
   "id": "87b3e645-6d26-4d5c-9066-1a6f219473b8",
   "metadata": {},
   "outputs": [
    {
     "data": {
      "text/plain": [
       "DataFrame[SO2: string, NO2: string]"
      ]
     },
     "execution_count": 80,
     "metadata": {},
     "output_type": "execute_result"
    }
   ],
   "source": [
    "spark_df.select(['SO2','NO2'])\n"
   ]
  },
  {
   "cell_type": "code",
   "execution_count": 81,
   "id": "eba7c4ab-26d0-4671-9be9-dcebe47cdddf",
   "metadata": {},
   "outputs": [
    {
     "name": "stdout",
     "output_type": "stream",
     "text": [
      "+----+----+\n",
      "| SO2| NO2|\n",
      "+----+----+\n",
      "| 9.2|18.9|\n",
      "| 9.7|30.8|\n",
      "|12.6|24.4|\n",
      "| 5.3|13.5|\n",
      "| 5.6|21.9|\n",
      "|17.9|42.9|\n",
      "|12.7|31.1|\n",
      "|13.6|24.2|\n",
      "|11.8|45.1|\n",
      "|15.3|  32|\n",
      "| 5.9|18.3|\n",
      "|19.3|21.6|\n",
      "| 6.6|26.1|\n",
      "| 4.5|23.2|\n",
      "| 6.3|17.2|\n",
      "|11.8|27.5|\n",
      "| 3.7|18.4|\n",
      "|13.7|46.7|\n",
      "| 7.1|28.5|\n",
      "|11.7|37.1|\n",
      "+----+----+\n",
      "only showing top 20 rows\n",
      "\n"
     ]
    }
   ],
   "source": [
    "spark_df.select(['SO2','NO2']).show()"
   ]
  },
  {
   "cell_type": "code",
   "execution_count": 82,
   "id": "6bab2634-e0e3-4f7e-aca0-33e90fd359e8",
   "metadata": {},
   "outputs": [
    {
     "data": {
      "text/plain": [
       "[('Temperature', 'string'),\n",
       " ('Humidity', 'string'),\n",
       " ('PM25', 'string'),\n",
       " ('PM10', 'string'),\n",
       " ('NO2', 'string'),\n",
       " ('SO2', 'string'),\n",
       " ('CO', 'string'),\n",
       " ('Proximity_to_Industrial_Areas', 'string'),\n",
       " ('Population_Density', 'string'),\n",
       " ('AirQuality', 'string')]"
      ]
     },
     "execution_count": 82,
     "metadata": {},
     "output_type": "execute_result"
    }
   ],
   "source": [
    "spark_df.dtypes"
   ]
  },
  {
   "cell_type": "code",
   "execution_count": 87,
   "id": "54501466-e407-453c-a468-84b6400b25a8",
   "metadata": {},
   "outputs": [
    {
     "data": {
      "text/plain": [
       "DataFrame[summary: string, Temperature: string, Humidity: string, PM25: string, PM10: string, NO2: string, SO2: string, CO: string, Proximity_to_Industrial_Areas: string, Population_Density: string, AirQuality: string]"
      ]
     },
     "execution_count": 87,
     "metadata": {},
     "output_type": "execute_result"
    }
   ],
   "source": [
    "spark_df.describe()\n"
   ]
  },
  {
   "cell_type": "code",
   "execution_count": 86,
   "id": "94c9afa7-5649-4da5-995e-252f3a339cbb",
   "metadata": {},
   "outputs": [
    {
     "name": "stdout",
     "output_type": "stream",
     "text": [
      "+-------+-----------------+------------------+-----------------+-----------------+------------------+------------------+------------------+-----------------------------+------------------+----------+\n",
      "|summary|      Temperature|          Humidity|             PM25|             PM10|               NO2|               SO2|                CO|Proximity_to_Industrial_Areas|Population_Density|AirQuality|\n",
      "+-------+-----------------+------------------+-----------------+-----------------+------------------+------------------+------------------+-----------------------------+------------------+----------+\n",
      "|  count|             5000|              5000|             5000|             5000|              5000|              5000|              5000|                         5000|              5000|      5000|\n",
      "|   mean|30.02901999999997| 70.05611999999996|20.14214000000003|30.21836000000005|26.412100000000017|10.014819999999993|1.5003539999999982|             8.42539999999998|          497.4238|      NULL|\n",
      "| stddev|6.720661373515228|15.863576682407793|24.55454587983803|27.34919937862405| 8.895356376391705| 6.750303377385144|0.5460266694116152|           3.6109437302351597| 152.7540839244278|      NULL|\n",
      "|    min|             13.4|               100|                0|             -0.2|                10|              -0.1|              0.65|                           10|               188|      Good|\n",
      "|    max|             58.6|              99.9|             99.7|             99.8|               9.9|               9.9|              3.72|                          9.9|               957|      Poor|\n",
      "+-------+-----------------+------------------+-----------------+-----------------+------------------+------------------+------------------+-----------------------------+------------------+----------+\n",
      "\n"
     ]
    }
   ],
   "source": [
    "spark_df.describe().show()"
   ]
  },
  {
   "cell_type": "code",
   "execution_count": 88,
   "id": "e6e8d98a-964b-4446-ad3a-b0b1d01bfdcf",
   "metadata": {},
   "outputs": [
    {
     "name": "stdout",
     "output_type": "stream",
     "text": [
      "+-----------+--------+----+----+----+----+----+-----------------------------+------------------+----------+------------------+\n",
      "|Temperature|Humidity|PM25|PM10| NO2| SO2|  CO|Proximity_to_Industrial_Areas|Population_Density|AirQuality|       NO2 and SO2|\n",
      "+-----------+--------+----+----+----+----+----+-----------------------------+------------------+----------+------------------+\n",
      "|       29.8|    59.1| 5.2|17.9|18.9| 9.2|1.72|                          6.3|               319|  Moderate|28.099999999999998|\n",
      "|       28.3|    75.6| 2.3|12.2|30.8| 9.7|1.64|                            6|               611|  Moderate|              40.5|\n",
      "|       23.1|    74.7|26.7|33.8|24.4|12.6|1.63|                          5.2|               619|  Moderate|              37.0|\n",
      "|       27.1|    39.1| 6.1| 6.3|13.5| 5.3|1.15|                         11.1|               551|      Good|              18.8|\n",
      "|       26.5|    70.7| 6.9|  16|21.9| 5.6|1.01|                         12.7|               303|      Good|              27.5|\n",
      "|       39.4|    96.6|14.6|35.5|42.9|17.9|1.82|                          3.1|               674| Hazardous|              60.8|\n",
      "|       41.7|    82.5| 1.7|15.8|31.1|12.7| 1.8|                          4.6|               735|      Poor|              43.8|\n",
      "|         31|    59.6|   5|16.8|24.2|13.6|1.38|                          6.3|               443|  Moderate|              37.8|\n",
      "|       29.4|    93.8|10.3|22.7|45.1|11.8|2.03|                          5.4|               486|      Poor|56.900000000000006|\n",
      "|       33.2|    80.5|11.1|24.4|  32|15.3|1.69|                          4.9|               535|      Poor|              47.3|\n",
      "|       26.3|    65.7| 1.3| 5.5|18.3| 5.9|0.85|                           13|               529|      Good|24.200000000000003|\n",
      "|       32.5|    51.2| 1.6|10.5|21.6|19.3|1.53|                          5.9|               519|  Moderate|40.900000000000006|\n",
      "|         20|    53.3| 3.7|12.9|26.1| 6.6|1.09|                         10.2|               538|      Good|              32.7|\n",
      "|       28.6|    53.7|28.9|  34|23.2| 4.5|1.02|                           11|               508|      Good|              27.7|\n",
      "|       22.3|    80.5| 4.5|  12|17.2| 6.3|1.18|                         10.4|               232|      Good|              23.5|\n",
      "|         32|    78.9|22.4|29.9|27.5|11.8|1.48|                          7.9|               444|  Moderate|              39.3|\n",
      "|       22.9|    75.4| 4.5|10.4|18.4| 3.7|0.96|                         14.4|               359|      Good|22.099999999999998|\n",
      "|       37.6|    81.2|28.1|56.6|46.7|13.7|1.85|                          4.1|               560|      Poor|60.400000000000006|\n",
      "|       34.7|    59.3|   9|15.7|28.5| 7.1|1.52|                          6.1|               437|  Moderate|              35.6|\n",
      "|       37.8|    97.2| 0.6|24.6|37.1|11.7|1.13|                          7.7|               803|      Poor|              48.8|\n",
      "+-----------+--------+----+----+----+----+----+-----------------------------+------------------+----------+------------------+\n",
      "only showing top 20 rows\n",
      "\n"
     ]
    }
   ],
   "source": [
    "#Adding a column\n",
    "spark_df.withColumn(\"NO2 and SO2\",spark_df[\"NO2\"]+spark_df[\"SO2\"]).show()"
   ]
  },
  {
   "cell_type": "code",
   "execution_count": 89,
   "id": "ca32f72e-1814-4c75-8e0f-396cbc0f82be",
   "metadata": {},
   "outputs": [],
   "source": [
    "spark_df=spark_df.withColumn(\"NO2 and SO2\",spark_df[\"NO2\"]+spark_df[\"SO2\"])"
   ]
  },
  {
   "cell_type": "code",
   "execution_count": 90,
   "id": "a3804922-e3b0-4b7f-82bd-7bf5f71a613f",
   "metadata": {},
   "outputs": [
    {
     "name": "stdout",
     "output_type": "stream",
     "text": [
      "+-----------+--------+----+----+----+----+----+-----------------------------+------------------+----------+------------------+\n",
      "|Temperature|Humidity|PM25|PM10| NO2| SO2|  CO|Proximity_to_Industrial_Areas|Population_Density|AirQuality|       NO2 and SO2|\n",
      "+-----------+--------+----+----+----+----+----+-----------------------------+------------------+----------+------------------+\n",
      "|       29.8|    59.1| 5.2|17.9|18.9| 9.2|1.72|                          6.3|               319|  Moderate|28.099999999999998|\n",
      "|       28.3|    75.6| 2.3|12.2|30.8| 9.7|1.64|                            6|               611|  Moderate|              40.5|\n",
      "|       23.1|    74.7|26.7|33.8|24.4|12.6|1.63|                          5.2|               619|  Moderate|              37.0|\n",
      "|       27.1|    39.1| 6.1| 6.3|13.5| 5.3|1.15|                         11.1|               551|      Good|              18.8|\n",
      "|       26.5|    70.7| 6.9|  16|21.9| 5.6|1.01|                         12.7|               303|      Good|              27.5|\n",
      "|       39.4|    96.6|14.6|35.5|42.9|17.9|1.82|                          3.1|               674| Hazardous|              60.8|\n",
      "|       41.7|    82.5| 1.7|15.8|31.1|12.7| 1.8|                          4.6|               735|      Poor|              43.8|\n",
      "|         31|    59.6|   5|16.8|24.2|13.6|1.38|                          6.3|               443|  Moderate|              37.8|\n",
      "|       29.4|    93.8|10.3|22.7|45.1|11.8|2.03|                          5.4|               486|      Poor|56.900000000000006|\n",
      "|       33.2|    80.5|11.1|24.4|  32|15.3|1.69|                          4.9|               535|      Poor|              47.3|\n",
      "|       26.3|    65.7| 1.3| 5.5|18.3| 5.9|0.85|                           13|               529|      Good|24.200000000000003|\n",
      "|       32.5|    51.2| 1.6|10.5|21.6|19.3|1.53|                          5.9|               519|  Moderate|40.900000000000006|\n",
      "|         20|    53.3| 3.7|12.9|26.1| 6.6|1.09|                         10.2|               538|      Good|              32.7|\n",
      "|       28.6|    53.7|28.9|  34|23.2| 4.5|1.02|                           11|               508|      Good|              27.7|\n",
      "|       22.3|    80.5| 4.5|  12|17.2| 6.3|1.18|                         10.4|               232|      Good|              23.5|\n",
      "|         32|    78.9|22.4|29.9|27.5|11.8|1.48|                          7.9|               444|  Moderate|              39.3|\n",
      "|       22.9|    75.4| 4.5|10.4|18.4| 3.7|0.96|                         14.4|               359|      Good|22.099999999999998|\n",
      "|       37.6|    81.2|28.1|56.6|46.7|13.7|1.85|                          4.1|               560|      Poor|60.400000000000006|\n",
      "|       34.7|    59.3|   9|15.7|28.5| 7.1|1.52|                          6.1|               437|  Moderate|              35.6|\n",
      "|       37.8|    97.2| 0.6|24.6|37.1|11.7|1.13|                          7.7|               803|      Poor|              48.8|\n",
      "+-----------+--------+----+----+----+----+----+-----------------------------+------------------+----------+------------------+\n",
      "only showing top 20 rows\n",
      "\n"
     ]
    }
   ],
   "source": [
    "spark_df.show()"
   ]
  },
  {
   "cell_type": "code",
   "execution_count": 92,
   "id": "db3d3a44-0bbd-45da-aae7-d3e8c19c02d6",
   "metadata": {},
   "outputs": [],
   "source": [
    "#drop a column\n",
    "spark_df=spark_df.drop('NO2','SO2')"
   ]
  },
  {
   "cell_type": "code",
   "execution_count": 93,
   "id": "cdc3ae2a-a7d3-4702-a229-9d7ed31d473b",
   "metadata": {},
   "outputs": [
    {
     "name": "stdout",
     "output_type": "stream",
     "text": [
      "+-----------+--------+----+----+----+-----------------------------+------------------+----------+------------------+\n",
      "|Temperature|Humidity|PM25|PM10|  CO|Proximity_to_Industrial_Areas|Population_Density|AirQuality|       NO2 and SO2|\n",
      "+-----------+--------+----+----+----+-----------------------------+------------------+----------+------------------+\n",
      "|       29.8|    59.1| 5.2|17.9|1.72|                          6.3|               319|  Moderate|28.099999999999998|\n",
      "|       28.3|    75.6| 2.3|12.2|1.64|                            6|               611|  Moderate|              40.5|\n",
      "|       23.1|    74.7|26.7|33.8|1.63|                          5.2|               619|  Moderate|              37.0|\n",
      "|       27.1|    39.1| 6.1| 6.3|1.15|                         11.1|               551|      Good|              18.8|\n",
      "|       26.5|    70.7| 6.9|  16|1.01|                         12.7|               303|      Good|              27.5|\n",
      "|       39.4|    96.6|14.6|35.5|1.82|                          3.1|               674| Hazardous|              60.8|\n",
      "|       41.7|    82.5| 1.7|15.8| 1.8|                          4.6|               735|      Poor|              43.8|\n",
      "|         31|    59.6|   5|16.8|1.38|                          6.3|               443|  Moderate|              37.8|\n",
      "|       29.4|    93.8|10.3|22.7|2.03|                          5.4|               486|      Poor|56.900000000000006|\n",
      "|       33.2|    80.5|11.1|24.4|1.69|                          4.9|               535|      Poor|              47.3|\n",
      "|       26.3|    65.7| 1.3| 5.5|0.85|                           13|               529|      Good|24.200000000000003|\n",
      "|       32.5|    51.2| 1.6|10.5|1.53|                          5.9|               519|  Moderate|40.900000000000006|\n",
      "|         20|    53.3| 3.7|12.9|1.09|                         10.2|               538|      Good|              32.7|\n",
      "|       28.6|    53.7|28.9|  34|1.02|                           11|               508|      Good|              27.7|\n",
      "|       22.3|    80.5| 4.5|  12|1.18|                         10.4|               232|      Good|              23.5|\n",
      "|         32|    78.9|22.4|29.9|1.48|                          7.9|               444|  Moderate|              39.3|\n",
      "|       22.9|    75.4| 4.5|10.4|0.96|                         14.4|               359|      Good|22.099999999999998|\n",
      "|       37.6|    81.2|28.1|56.6|1.85|                          4.1|               560|      Poor|60.400000000000006|\n",
      "|       34.7|    59.3|   9|15.7|1.52|                          6.1|               437|  Moderate|              35.6|\n",
      "|       37.8|    97.2| 0.6|24.6|1.13|                          7.7|               803|      Poor|              48.8|\n",
      "+-----------+--------+----+----+----+-----------------------------+------------------+----------+------------------+\n",
      "only showing top 20 rows\n",
      "\n"
     ]
    }
   ],
   "source": [
    "spark_df.show()"
   ]
  },
  {
   "cell_type": "code",
   "execution_count": 94,
   "id": "b78f9474-541f-431f-a992-dc4afc45060d",
   "metadata": {},
   "outputs": [
    {
     "data": {
      "text/plain": [
       "DataFrame[summary: string, Temperature: string, Humidity: string, PM25: string, PM10: string, CO: string, Proximity_to_Industrial_Areas: string, Population_Density: string, AirQuality: string, NO2 and SO2: string]"
      ]
     },
     "execution_count": 94,
     "metadata": {},
     "output_type": "execute_result"
    }
   ],
   "source": [
    "spark_df.describe()"
   ]
  },
  {
   "cell_type": "code",
   "execution_count": 95,
   "id": "8eff306e-b549-4738-965e-1618e5c7f9b9",
   "metadata": {},
   "outputs": [
    {
     "name": "stdout",
     "output_type": "stream",
     "text": [
      "+-----------+--------+----+----+----+-----------------------------+------------------+----------+------------------+\n",
      "|Temperature|Humidity|PM25|PM10|  CO|Proximity_to_Industrial_Areas|Population_Density|AirQuality|            NO2SO2|\n",
      "+-----------+--------+----+----+----+-----------------------------+------------------+----------+------------------+\n",
      "|       29.8|    59.1| 5.2|17.9|1.72|                          6.3|               319|  Moderate|28.099999999999998|\n",
      "|       28.3|    75.6| 2.3|12.2|1.64|                            6|               611|  Moderate|              40.5|\n",
      "|       23.1|    74.7|26.7|33.8|1.63|                          5.2|               619|  Moderate|              37.0|\n",
      "|       27.1|    39.1| 6.1| 6.3|1.15|                         11.1|               551|      Good|              18.8|\n",
      "|       26.5|    70.7| 6.9|  16|1.01|                         12.7|               303|      Good|              27.5|\n",
      "|       39.4|    96.6|14.6|35.5|1.82|                          3.1|               674| Hazardous|              60.8|\n",
      "|       41.7|    82.5| 1.7|15.8| 1.8|                          4.6|               735|      Poor|              43.8|\n",
      "|         31|    59.6|   5|16.8|1.38|                          6.3|               443|  Moderate|              37.8|\n",
      "|       29.4|    93.8|10.3|22.7|2.03|                          5.4|               486|      Poor|56.900000000000006|\n",
      "|       33.2|    80.5|11.1|24.4|1.69|                          4.9|               535|      Poor|              47.3|\n",
      "|       26.3|    65.7| 1.3| 5.5|0.85|                           13|               529|      Good|24.200000000000003|\n",
      "|       32.5|    51.2| 1.6|10.5|1.53|                          5.9|               519|  Moderate|40.900000000000006|\n",
      "|         20|    53.3| 3.7|12.9|1.09|                         10.2|               538|      Good|              32.7|\n",
      "|       28.6|    53.7|28.9|  34|1.02|                           11|               508|      Good|              27.7|\n",
      "|       22.3|    80.5| 4.5|  12|1.18|                         10.4|               232|      Good|              23.5|\n",
      "|         32|    78.9|22.4|29.9|1.48|                          7.9|               444|  Moderate|              39.3|\n",
      "|       22.9|    75.4| 4.5|10.4|0.96|                         14.4|               359|      Good|22.099999999999998|\n",
      "|       37.6|    81.2|28.1|56.6|1.85|                          4.1|               560|      Poor|60.400000000000006|\n",
      "|       34.7|    59.3|   9|15.7|1.52|                          6.1|               437|  Moderate|              35.6|\n",
      "|       37.8|    97.2| 0.6|24.6|1.13|                          7.7|               803|      Poor|              48.8|\n",
      "+-----------+--------+----+----+----+-----------------------------+------------------+----------+------------------+\n",
      "only showing top 20 rows\n",
      "\n"
     ]
    }
   ],
   "source": [
    "# rename a column\n",
    "spark_df.withColumnRenamed('NO2 and SO2','NO2SO2').show()"
   ]
  },
  {
   "cell_type": "code",
   "execution_count": 96,
   "id": "f4514358-9bec-4ff3-b164-a513cb2a7230",
   "metadata": {},
   "outputs": [],
   "source": [
    "spark_df=spark_df.withColumnRenamed('NO2 and SO2','NO2SO2')"
   ]
  },
  {
   "cell_type": "code",
   "execution_count": 98,
   "id": "619448f7-0daa-423e-a3b7-a844814d6dc0",
   "metadata": {},
   "outputs": [
    {
     "name": "stdout",
     "output_type": "stream",
     "text": [
      "+-----------+--------+----+----+----+-----------------------------+------------------+----------+------------------+\n",
      "|Temperature|Humidity|PM25|PM10|  CO|Proximity_to_Industrial_Areas|Population_Density|AirQuality|            NO2SO2|\n",
      "+-----------+--------+----+----+----+-----------------------------+------------------+----------+------------------+\n",
      "|       29.8|    59.1| 5.2|17.9|1.72|                          6.3|               319|  Moderate|28.099999999999998|\n",
      "|       28.3|    75.6| 2.3|12.2|1.64|                            6|               611|  Moderate|              40.5|\n",
      "|       23.1|    74.7|26.7|33.8|1.63|                          5.2|               619|  Moderate|              37.0|\n",
      "|       27.1|    39.1| 6.1| 6.3|1.15|                         11.1|               551|      Good|              18.8|\n",
      "|       26.5|    70.7| 6.9|  16|1.01|                         12.7|               303|      Good|              27.5|\n",
      "|       39.4|    96.6|14.6|35.5|1.82|                          3.1|               674| Hazardous|              60.8|\n",
      "|       41.7|    82.5| 1.7|15.8| 1.8|                          4.6|               735|      Poor|              43.8|\n",
      "|         31|    59.6|   5|16.8|1.38|                          6.3|               443|  Moderate|              37.8|\n",
      "|       29.4|    93.8|10.3|22.7|2.03|                          5.4|               486|      Poor|56.900000000000006|\n",
      "|       33.2|    80.5|11.1|24.4|1.69|                          4.9|               535|      Poor|              47.3|\n",
      "|       26.3|    65.7| 1.3| 5.5|0.85|                           13|               529|      Good|24.200000000000003|\n",
      "|       32.5|    51.2| 1.6|10.5|1.53|                          5.9|               519|  Moderate|40.900000000000006|\n",
      "|         20|    53.3| 3.7|12.9|1.09|                         10.2|               538|      Good|              32.7|\n",
      "|       28.6|    53.7|28.9|  34|1.02|                           11|               508|      Good|              27.7|\n",
      "|       22.3|    80.5| 4.5|  12|1.18|                         10.4|               232|      Good|              23.5|\n",
      "|         32|    78.9|22.4|29.9|1.48|                          7.9|               444|  Moderate|              39.3|\n",
      "|       22.9|    75.4| 4.5|10.4|0.96|                         14.4|               359|      Good|22.099999999999998|\n",
      "|       37.6|    81.2|28.1|56.6|1.85|                          4.1|               560|      Poor|60.400000000000006|\n",
      "|       34.7|    59.3|   9|15.7|1.52|                          6.1|               437|  Moderate|              35.6|\n",
      "|       37.8|    97.2| 0.6|24.6|1.13|                          7.7|               803|      Poor|              48.8|\n",
      "+-----------+--------+----+----+----+-----------------------------+------------------+----------+------------------+\n",
      "only showing top 20 rows\n",
      "\n"
     ]
    }
   ],
   "source": [
    "spark_df.show()"
   ]
  },
  {
   "cell_type": "code",
   "execution_count": 100,
   "id": "62efe6a2-c164-4b71-a643-f30311c5695d",
   "metadata": {},
   "outputs": [
    {
     "name": "stdout",
     "output_type": "stream",
     "text": [
      "+-----------+--------+----+----+----+-----------------------------+------------------+----------+------------------+\n",
      "|Temperature|Humidity|PM25|PM10|  CO|Proximity_to_Industrial_Areas|Population_Density|AirQuality|            NO2SO2|\n",
      "+-----------+--------+----+----+----+-----------------------------+------------------+----------+------------------+\n",
      "|       29.8|    59.1| 5.2|17.9|1.72|                          6.3|               319|  Moderate|28.099999999999998|\n",
      "|       28.3|    75.6| 2.3|12.2|1.64|                            6|               611|  Moderate|              40.5|\n",
      "|       23.1|    74.7|26.7|33.8|1.63|                          5.2|               619|  Moderate|              37.0|\n",
      "|       27.1|    39.1| 6.1| 6.3|1.15|                         11.1|               551|      Good|              18.8|\n",
      "|       26.5|    70.7| 6.9|  16|1.01|                         12.7|               303|      Good|              27.5|\n",
      "|       39.4|    96.6|14.6|35.5|1.82|                          3.1|               674| Hazardous|              60.8|\n",
      "|       41.7|    82.5| 1.7|15.8| 1.8|                          4.6|               735|      Poor|              43.8|\n",
      "|         31|    59.6|   5|16.8|1.38|                          6.3|               443|  Moderate|              37.8|\n",
      "|       29.4|    93.8|10.3|22.7|2.03|                          5.4|               486|      Poor|56.900000000000006|\n",
      "|       33.2|    80.5|11.1|24.4|1.69|                          4.9|               535|      Poor|              47.3|\n",
      "|       26.3|    65.7| 1.3| 5.5|0.85|                           13|               529|      Good|24.200000000000003|\n",
      "|       32.5|    51.2| 1.6|10.5|1.53|                          5.9|               519|  Moderate|40.900000000000006|\n",
      "|         20|    53.3| 3.7|12.9|1.09|                         10.2|               538|      Good|              32.7|\n",
      "|       28.6|    53.7|28.9|  34|1.02|                           11|               508|      Good|              27.7|\n",
      "|       22.3|    80.5| 4.5|  12|1.18|                         10.4|               232|      Good|              23.5|\n",
      "|         32|    78.9|22.4|29.9|1.48|                          7.9|               444|  Moderate|              39.3|\n",
      "|       22.9|    75.4| 4.5|10.4|0.96|                         14.4|               359|      Good|22.099999999999998|\n",
      "|       37.6|    81.2|28.1|56.6|1.85|                          4.1|               560|      Poor|60.400000000000006|\n",
      "|       34.7|    59.3|   9|15.7|1.52|                          6.1|               437|  Moderate|              35.6|\n",
      "|       37.8|    97.2| 0.6|24.6|1.13|                          7.7|               803|      Poor|              48.8|\n",
      "+-----------+--------+----+----+----+-----------------------------+------------------+----------+------------------+\n",
      "only showing top 20 rows\n",
      "\n"
     ]
    }
   ],
   "source": [
    "#drop null values\n",
    "spark_df.na.drop().show()  # will drop all the rows having null value"
   ]
  },
  {
   "cell_type": "code",
   "execution_count": 103,
   "id": "74195547-acfa-468d-90b2-56db0ef97ed3",
   "metadata": {},
   "outputs": [
    {
     "name": "stdout",
     "output_type": "stream",
     "text": [
      "+-----------+--------+----+----+----+-----------------------------+------------------+----------+------------------+\n",
      "|Temperature|Humidity|PM25|PM10|  CO|Proximity_to_Industrial_Areas|Population_Density|AirQuality|            NO2SO2|\n",
      "+-----------+--------+----+----+----+-----------------------------+------------------+----------+------------------+\n",
      "|       29.8|    59.1| 5.2|17.9|1.72|                          6.3|               319|  Moderate|28.099999999999998|\n",
      "|       28.3|    75.6| 2.3|12.2|1.64|                            6|               611|  Moderate|              40.5|\n",
      "|       23.1|    74.7|26.7|33.8|1.63|                          5.2|               619|  Moderate|              37.0|\n",
      "|       27.1|    39.1| 6.1| 6.3|1.15|                         11.1|               551|      Good|              18.8|\n",
      "|       26.5|    70.7| 6.9|  16|1.01|                         12.7|               303|      Good|              27.5|\n",
      "|       39.4|    96.6|14.6|35.5|1.82|                          3.1|               674| Hazardous|              60.8|\n",
      "|       41.7|    82.5| 1.7|15.8| 1.8|                          4.6|               735|      Poor|              43.8|\n",
      "|         31|    59.6|   5|16.8|1.38|                          6.3|               443|  Moderate|              37.8|\n",
      "|       29.4|    93.8|10.3|22.7|2.03|                          5.4|               486|      Poor|56.900000000000006|\n",
      "|       33.2|    80.5|11.1|24.4|1.69|                          4.9|               535|      Poor|              47.3|\n",
      "|       26.3|    65.7| 1.3| 5.5|0.85|                           13|               529|      Good|24.200000000000003|\n",
      "|       32.5|    51.2| 1.6|10.5|1.53|                          5.9|               519|  Moderate|40.900000000000006|\n",
      "|         20|    53.3| 3.7|12.9|1.09|                         10.2|               538|      Good|              32.7|\n",
      "|       28.6|    53.7|28.9|  34|1.02|                           11|               508|      Good|              27.7|\n",
      "|       22.3|    80.5| 4.5|  12|1.18|                         10.4|               232|      Good|              23.5|\n",
      "|         32|    78.9|22.4|29.9|1.48|                          7.9|               444|  Moderate|              39.3|\n",
      "|       22.9|    75.4| 4.5|10.4|0.96|                         14.4|               359|      Good|22.099999999999998|\n",
      "|       37.6|    81.2|28.1|56.6|1.85|                          4.1|               560|      Poor|60.400000000000006|\n",
      "|       34.7|    59.3|   9|15.7|1.52|                          6.1|               437|  Moderate|              35.6|\n",
      "|       37.8|    97.2| 0.6|24.6|1.13|                          7.7|               803|      Poor|              48.8|\n",
      "+-----------+--------+----+----+----+-----------------------------+------------------+----------+------------------+\n",
      "only showing top 20 rows\n",
      "\n"
     ]
    }
   ],
   "source": [
    "spark_df.na.drop(how='any').show() # will drop row if any of the value is null"
   ]
  },
  {
   "cell_type": "code",
   "execution_count": 104,
   "id": "ae07595b-0d29-4425-b3bd-9b2e1344615e",
   "metadata": {},
   "outputs": [
    {
     "name": "stdout",
     "output_type": "stream",
     "text": [
      "+-----------+--------+----+----+----+-----------------------------+------------------+----------+------------------+\n",
      "|Temperature|Humidity|PM25|PM10|  CO|Proximity_to_Industrial_Areas|Population_Density|AirQuality|            NO2SO2|\n",
      "+-----------+--------+----+----+----+-----------------------------+------------------+----------+------------------+\n",
      "|       29.8|    59.1| 5.2|17.9|1.72|                          6.3|               319|  Moderate|28.099999999999998|\n",
      "|       28.3|    75.6| 2.3|12.2|1.64|                            6|               611|  Moderate|              40.5|\n",
      "|       23.1|    74.7|26.7|33.8|1.63|                          5.2|               619|  Moderate|              37.0|\n",
      "|       27.1|    39.1| 6.1| 6.3|1.15|                         11.1|               551|      Good|              18.8|\n",
      "|       26.5|    70.7| 6.9|  16|1.01|                         12.7|               303|      Good|              27.5|\n",
      "|       39.4|    96.6|14.6|35.5|1.82|                          3.1|               674| Hazardous|              60.8|\n",
      "|       41.7|    82.5| 1.7|15.8| 1.8|                          4.6|               735|      Poor|              43.8|\n",
      "|         31|    59.6|   5|16.8|1.38|                          6.3|               443|  Moderate|              37.8|\n",
      "|       29.4|    93.8|10.3|22.7|2.03|                          5.4|               486|      Poor|56.900000000000006|\n",
      "|       33.2|    80.5|11.1|24.4|1.69|                          4.9|               535|      Poor|              47.3|\n",
      "|       26.3|    65.7| 1.3| 5.5|0.85|                           13|               529|      Good|24.200000000000003|\n",
      "|       32.5|    51.2| 1.6|10.5|1.53|                          5.9|               519|  Moderate|40.900000000000006|\n",
      "|         20|    53.3| 3.7|12.9|1.09|                         10.2|               538|      Good|              32.7|\n",
      "|       28.6|    53.7|28.9|  34|1.02|                           11|               508|      Good|              27.7|\n",
      "|       22.3|    80.5| 4.5|  12|1.18|                         10.4|               232|      Good|              23.5|\n",
      "|         32|    78.9|22.4|29.9|1.48|                          7.9|               444|  Moderate|              39.3|\n",
      "|       22.9|    75.4| 4.5|10.4|0.96|                         14.4|               359|      Good|22.099999999999998|\n",
      "|       37.6|    81.2|28.1|56.6|1.85|                          4.1|               560|      Poor|60.400000000000006|\n",
      "|       34.7|    59.3|   9|15.7|1.52|                          6.1|               437|  Moderate|              35.6|\n",
      "|       37.8|    97.2| 0.6|24.6|1.13|                          7.7|               803|      Poor|              48.8|\n",
      "+-----------+--------+----+----+----+-----------------------------+------------------+----------+------------------+\n",
      "only showing top 20 rows\n",
      "\n"
     ]
    }
   ],
   "source": [
    "spark_df.na.drop(how='all').show() # will drop row if all of its values are null"
   ]
  },
  {
   "cell_type": "code",
   "execution_count": 106,
   "id": "43952a54-3824-400a-9863-0a02def2b7a4",
   "metadata": {},
   "outputs": [
    {
     "name": "stdout",
     "output_type": "stream",
     "text": [
      "+-----------+--------+----+----+----+-----------------------------+------------------+----------+------------------+\n",
      "|Temperature|Humidity|PM25|PM10|  CO|Proximity_to_Industrial_Areas|Population_Density|AirQuality|            NO2SO2|\n",
      "+-----------+--------+----+----+----+-----------------------------+------------------+----------+------------------+\n",
      "|       29.8|    59.1| 5.2|17.9|1.72|                          6.3|               319|  Moderate|28.099999999999998|\n",
      "|       28.3|    75.6| 2.3|12.2|1.64|                            6|               611|  Moderate|              40.5|\n",
      "|       23.1|    74.7|26.7|33.8|1.63|                          5.2|               619|  Moderate|              37.0|\n",
      "|       27.1|    39.1| 6.1| 6.3|1.15|                         11.1|               551|      Good|              18.8|\n",
      "|       26.5|    70.7| 6.9|  16|1.01|                         12.7|               303|      Good|              27.5|\n",
      "|       39.4|    96.6|14.6|35.5|1.82|                          3.1|               674| Hazardous|              60.8|\n",
      "|       41.7|    82.5| 1.7|15.8| 1.8|                          4.6|               735|      Poor|              43.8|\n",
      "|         31|    59.6|   5|16.8|1.38|                          6.3|               443|  Moderate|              37.8|\n",
      "|       29.4|    93.8|10.3|22.7|2.03|                          5.4|               486|      Poor|56.900000000000006|\n",
      "|       33.2|    80.5|11.1|24.4|1.69|                          4.9|               535|      Poor|              47.3|\n",
      "|       26.3|    65.7| 1.3| 5.5|0.85|                           13|               529|      Good|24.200000000000003|\n",
      "|       32.5|    51.2| 1.6|10.5|1.53|                          5.9|               519|  Moderate|40.900000000000006|\n",
      "|         20|    53.3| 3.7|12.9|1.09|                         10.2|               538|      Good|              32.7|\n",
      "|       28.6|    53.7|28.9|  34|1.02|                           11|               508|      Good|              27.7|\n",
      "|       22.3|    80.5| 4.5|  12|1.18|                         10.4|               232|      Good|              23.5|\n",
      "|         32|    78.9|22.4|29.9|1.48|                          7.9|               444|  Moderate|              39.3|\n",
      "|       22.9|    75.4| 4.5|10.4|0.96|                         14.4|               359|      Good|22.099999999999998|\n",
      "|       37.6|    81.2|28.1|56.6|1.85|                          4.1|               560|      Poor|60.400000000000006|\n",
      "|       34.7|    59.3|   9|15.7|1.52|                          6.1|               437|  Moderate|              35.6|\n",
      "|       37.8|    97.2| 0.6|24.6|1.13|                          7.7|               803|      Poor|              48.8|\n",
      "+-----------+--------+----+----+----+-----------------------------+------------------+----------+------------------+\n",
      "only showing top 20 rows\n",
      "\n"
     ]
    }
   ],
   "source": [
    "spark_df.na.drop(how='all', thresh=2).show() # atleast 2 non null values should be present - then do no delete"
   ]
  },
  {
   "cell_type": "code",
   "execution_count": 108,
   "id": "ccbdd027-c74e-4401-b46c-1cdb70e0ddbd",
   "metadata": {},
   "outputs": [
    {
     "name": "stdout",
     "output_type": "stream",
     "text": [
      "+-----------+--------+----+----+----+-----------------------------+------------------+----------+------------------+\n",
      "|Temperature|Humidity|PM25|PM10|  CO|Proximity_to_Industrial_Areas|Population_Density|AirQuality|            NO2SO2|\n",
      "+-----------+--------+----+----+----+-----------------------------+------------------+----------+------------------+\n",
      "|       29.8|    59.1| 5.2|17.9|1.72|                          6.3|               319|  Moderate|28.099999999999998|\n",
      "|       28.3|    75.6| 2.3|12.2|1.64|                            6|               611|  Moderate|              40.5|\n",
      "|       23.1|    74.7|26.7|33.8|1.63|                          5.2|               619|  Moderate|              37.0|\n",
      "|       27.1|    39.1| 6.1| 6.3|1.15|                         11.1|               551|      Good|              18.8|\n",
      "|       26.5|    70.7| 6.9|  16|1.01|                         12.7|               303|      Good|              27.5|\n",
      "|       39.4|    96.6|14.6|35.5|1.82|                          3.1|               674| Hazardous|              60.8|\n",
      "|       41.7|    82.5| 1.7|15.8| 1.8|                          4.6|               735|      Poor|              43.8|\n",
      "|         31|    59.6|   5|16.8|1.38|                          6.3|               443|  Moderate|              37.8|\n",
      "|       29.4|    93.8|10.3|22.7|2.03|                          5.4|               486|      Poor|56.900000000000006|\n",
      "|       33.2|    80.5|11.1|24.4|1.69|                          4.9|               535|      Poor|              47.3|\n",
      "|       26.3|    65.7| 1.3| 5.5|0.85|                           13|               529|      Good|24.200000000000003|\n",
      "|       32.5|    51.2| 1.6|10.5|1.53|                          5.9|               519|  Moderate|40.900000000000006|\n",
      "|         20|    53.3| 3.7|12.9|1.09|                         10.2|               538|      Good|              32.7|\n",
      "|       28.6|    53.7|28.9|  34|1.02|                           11|               508|      Good|              27.7|\n",
      "|       22.3|    80.5| 4.5|  12|1.18|                         10.4|               232|      Good|              23.5|\n",
      "|         32|    78.9|22.4|29.9|1.48|                          7.9|               444|  Moderate|              39.3|\n",
      "|       22.9|    75.4| 4.5|10.4|0.96|                         14.4|               359|      Good|22.099999999999998|\n",
      "|       37.6|    81.2|28.1|56.6|1.85|                          4.1|               560|      Poor|60.400000000000006|\n",
      "|       34.7|    59.3|   9|15.7|1.52|                          6.1|               437|  Moderate|              35.6|\n",
      "|       37.8|    97.2| 0.6|24.6|1.13|                          7.7|               803|      Poor|              48.8|\n",
      "+-----------+--------+----+----+----+-----------------------------+------------------+----------+------------------+\n",
      "only showing top 20 rows\n",
      "\n"
     ]
    }
   ],
   "source": [
    "spark_df.na.drop(how='all',subset=['PM10']).show()  # will drop rows for null PM10 only"
   ]
  },
  {
   "cell_type": "code",
   "execution_count": 109,
   "id": "68f7ad0c-4e79-4895-95a3-fe847f8f41ab",
   "metadata": {},
   "outputs": [],
   "source": [
    "# fill missing values"
   ]
  },
  {
   "cell_type": "code",
   "execution_count": 111,
   "id": "90b44186-1a67-428f-ad35-586fb85412b1",
   "metadata": {},
   "outputs": [
    {
     "name": "stdout",
     "output_type": "stream",
     "text": [
      "+-----------+--------+----+----+----+-----------------------------+------------------+----------+------------------+\n",
      "|Temperature|Humidity|PM25|PM10|  CO|Proximity_to_Industrial_Areas|Population_Density|AirQuality|            NO2SO2|\n",
      "+-----------+--------+----+----+----+-----------------------------+------------------+----------+------------------+\n",
      "|       29.8|    59.1| 5.2|17.9|1.72|                          6.3|               319|  Moderate|28.099999999999998|\n",
      "|       28.3|    75.6| 2.3|12.2|1.64|                            6|               611|  Moderate|              40.5|\n",
      "|       23.1|    74.7|26.7|33.8|1.63|                          5.2|               619|  Moderate|              37.0|\n",
      "|       27.1|    39.1| 6.1| 6.3|1.15|                         11.1|               551|      Good|              18.8|\n",
      "|       26.5|    70.7| 6.9|  16|1.01|                         12.7|               303|      Good|              27.5|\n",
      "|       39.4|    96.6|14.6|35.5|1.82|                          3.1|               674| Hazardous|              60.8|\n",
      "|       41.7|    82.5| 1.7|15.8| 1.8|                          4.6|               735|      Poor|              43.8|\n",
      "|         31|    59.6|   5|16.8|1.38|                          6.3|               443|  Moderate|              37.8|\n",
      "|       29.4|    93.8|10.3|22.7|2.03|                          5.4|               486|      Poor|56.900000000000006|\n",
      "|       33.2|    80.5|11.1|24.4|1.69|                          4.9|               535|      Poor|              47.3|\n",
      "|       26.3|    65.7| 1.3| 5.5|0.85|                           13|               529|      Good|24.200000000000003|\n",
      "|       32.5|    51.2| 1.6|10.5|1.53|                          5.9|               519|  Moderate|40.900000000000006|\n",
      "|         20|    53.3| 3.7|12.9|1.09|                         10.2|               538|      Good|              32.7|\n",
      "|       28.6|    53.7|28.9|  34|1.02|                           11|               508|      Good|              27.7|\n",
      "|       22.3|    80.5| 4.5|  12|1.18|                         10.4|               232|      Good|              23.5|\n",
      "|         32|    78.9|22.4|29.9|1.48|                          7.9|               444|  Moderate|              39.3|\n",
      "|       22.9|    75.4| 4.5|10.4|0.96|                         14.4|               359|      Good|22.099999999999998|\n",
      "|       37.6|    81.2|28.1|56.6|1.85|                          4.1|               560|      Poor|60.400000000000006|\n",
      "|       34.7|    59.3|   9|15.7|1.52|                          6.1|               437|  Moderate|              35.6|\n",
      "|       37.8|    97.2| 0.6|24.6|1.13|                          7.7|               803|      Poor|              48.8|\n",
      "+-----------+--------+----+----+----+-----------------------------+------------------+----------+------------------+\n",
      "only showing top 20 rows\n",
      "\n"
     ]
    }
   ],
   "source": [
    "spark_df.na.fill('New Values').show() # will replace nan with 'New Values' for all columns"
   ]
  },
  {
   "cell_type": "code",
   "execution_count": 112,
   "id": "c662f796-7d60-4ad0-beec-ae45b7d66635",
   "metadata": {},
   "outputs": [
    {
     "name": "stdout",
     "output_type": "stream",
     "text": [
      "+-----------+--------+----+----+----+-----------------------------+------------------+----------+------------------+\n",
      "|Temperature|Humidity|PM25|PM10|  CO|Proximity_to_Industrial_Areas|Population_Density|AirQuality|            NO2SO2|\n",
      "+-----------+--------+----+----+----+-----------------------------+------------------+----------+------------------+\n",
      "|       29.8|    59.1| 5.2|17.9|1.72|                          6.3|               319|  Moderate|28.099999999999998|\n",
      "|       28.3|    75.6| 2.3|12.2|1.64|                            6|               611|  Moderate|              40.5|\n",
      "|       23.1|    74.7|26.7|33.8|1.63|                          5.2|               619|  Moderate|              37.0|\n",
      "|       27.1|    39.1| 6.1| 6.3|1.15|                         11.1|               551|      Good|              18.8|\n",
      "|       26.5|    70.7| 6.9|  16|1.01|                         12.7|               303|      Good|              27.5|\n",
      "|       39.4|    96.6|14.6|35.5|1.82|                          3.1|               674| Hazardous|              60.8|\n",
      "|       41.7|    82.5| 1.7|15.8| 1.8|                          4.6|               735|      Poor|              43.8|\n",
      "|         31|    59.6|   5|16.8|1.38|                          6.3|               443|  Moderate|              37.8|\n",
      "|       29.4|    93.8|10.3|22.7|2.03|                          5.4|               486|      Poor|56.900000000000006|\n",
      "|       33.2|    80.5|11.1|24.4|1.69|                          4.9|               535|      Poor|              47.3|\n",
      "|       26.3|    65.7| 1.3| 5.5|0.85|                           13|               529|      Good|24.200000000000003|\n",
      "|       32.5|    51.2| 1.6|10.5|1.53|                          5.9|               519|  Moderate|40.900000000000006|\n",
      "|         20|    53.3| 3.7|12.9|1.09|                         10.2|               538|      Good|              32.7|\n",
      "|       28.6|    53.7|28.9|  34|1.02|                           11|               508|      Good|              27.7|\n",
      "|       22.3|    80.5| 4.5|  12|1.18|                         10.4|               232|      Good|              23.5|\n",
      "|         32|    78.9|22.4|29.9|1.48|                          7.9|               444|  Moderate|              39.3|\n",
      "|       22.9|    75.4| 4.5|10.4|0.96|                         14.4|               359|      Good|22.099999999999998|\n",
      "|       37.6|    81.2|28.1|56.6|1.85|                          4.1|               560|      Poor|60.400000000000006|\n",
      "|       34.7|    59.3|   9|15.7|1.52|                          6.1|               437|  Moderate|              35.6|\n",
      "|       37.8|    97.2| 0.6|24.6|1.13|                          7.7|               803|      Poor|              48.8|\n",
      "+-----------+--------+----+----+----+-----------------------------+------------------+----------+------------------+\n",
      "only showing top 20 rows\n",
      "\n"
     ]
    }
   ],
   "source": [
    "spark_df.na.fill('New Values',['PM10','PM25']).show() # will replace nan with 'New Values' for  columns mentioned"
   ]
  },
  {
   "cell_type": "code",
   "execution_count": 113,
   "id": "463402d1-49dc-44ab-80ee-faabbb8e1774",
   "metadata": {},
   "outputs": [
    {
     "name": "stdout",
     "output_type": "stream",
     "text": [
      "+-----------+--------+----+----+----+-----------------------------+------------------+----------+------------------+\n",
      "|Temperature|Humidity|PM25|PM10|  CO|Proximity_to_Industrial_Areas|Population_Density|AirQuality|            NO2SO2|\n",
      "+-----------+--------+----+----+----+-----------------------------+------------------+----------+------------------+\n",
      "|       29.8|    59.1| 5.2|17.9|1.72|                          6.3|               319|  Moderate|28.099999999999998|\n",
      "|       28.3|    75.6| 2.3|12.2|1.64|                            6|               611|  Moderate|              40.5|\n",
      "|       23.1|    74.7|26.7|33.8|1.63|                          5.2|               619|  Moderate|              37.0|\n",
      "|       27.1|    39.1| 6.1| 6.3|1.15|                         11.1|               551|      Good|              18.8|\n",
      "|       26.5|    70.7| 6.9|  16|1.01|                         12.7|               303|      Good|              27.5|\n",
      "|       39.4|    96.6|14.6|35.5|1.82|                          3.1|               674| Hazardous|              60.8|\n",
      "|       41.7|    82.5| 1.7|15.8| 1.8|                          4.6|               735|      Poor|              43.8|\n",
      "|         31|    59.6|   5|16.8|1.38|                          6.3|               443|  Moderate|              37.8|\n",
      "|       29.4|    93.8|10.3|22.7|2.03|                          5.4|               486|      Poor|56.900000000000006|\n",
      "|       33.2|    80.5|11.1|24.4|1.69|                          4.9|               535|      Poor|              47.3|\n",
      "|       26.3|    65.7| 1.3| 5.5|0.85|                           13|               529|      Good|24.200000000000003|\n",
      "|       32.5|    51.2| 1.6|10.5|1.53|                          5.9|               519|  Moderate|40.900000000000006|\n",
      "|         20|    53.3| 3.7|12.9|1.09|                         10.2|               538|      Good|              32.7|\n",
      "|       28.6|    53.7|28.9|  34|1.02|                           11|               508|      Good|              27.7|\n",
      "|       22.3|    80.5| 4.5|  12|1.18|                         10.4|               232|      Good|              23.5|\n",
      "|         32|    78.9|22.4|29.9|1.48|                          7.9|               444|  Moderate|              39.3|\n",
      "|       22.9|    75.4| 4.5|10.4|0.96|                         14.4|               359|      Good|22.099999999999998|\n",
      "|       37.6|    81.2|28.1|56.6|1.85|                          4.1|               560|      Poor|60.400000000000006|\n",
      "|       34.7|    59.3|   9|15.7|1.52|                          6.1|               437|  Moderate|              35.6|\n",
      "|       37.8|    97.2| 0.6|24.6|1.13|                          7.7|               803|      Poor|              48.8|\n",
      "+-----------+--------+----+----+----+-----------------------------+------------------+----------+------------------+\n",
      "only showing top 20 rows\n",
      "\n"
     ]
    }
   ],
   "source": [
    "spark_df.show()"
   ]
  },
  {
   "cell_type": "code",
   "execution_count": 115,
   "id": "21a2b1c3-b534-4ad7-94b4-f1d8d5355f87",
   "metadata": {},
   "outputs": [],
   "source": [
    "#fill missing values with mean/median\n",
    "from pyspark.ml.feature import Imputer"
   ]
  },
  {
   "cell_type": "code",
   "execution_count": 119,
   "id": "7b20442f-9f66-40c6-9404-9ffc4e955f53",
   "metadata": {},
   "outputs": [],
   "source": [
    "from pyspark.ml.feature import Imputer\n",
    "\n",
    "imputer = Imputer(\n",
    "    inputCols=['PM25', 'PM10', 'CO'], \n",
    "    outputCols=[\"{}_imputed\".format(c) for c in ['PM25', 'PM10', 'CO']]\n",
    "    ).setStrategy(\"median\")"
   ]
  },
  {
   "cell_type": "code",
   "execution_count": 121,
   "id": "ff5562ef-9d13-4739-8f13-b7d0487a46d1",
   "metadata": {},
   "outputs": [
    {
     "data": {
      "text/plain": [
       "DataFrame[summary: string, Temperature: string, Humidity: string, PM25: string, PM10: string, CO: string, Proximity_to_Industrial_Areas: string, Population_Density: string, AirQuality: string, NO2SO2: string]"
      ]
     },
     "execution_count": 121,
     "metadata": {},
     "output_type": "execute_result"
    }
   ],
   "source": [
    "spark_df.describe()"
   ]
  },
  {
   "cell_type": "code",
   "execution_count": 146,
   "id": "69505fbf-d0db-49d1-aba8-fe6de48b300f",
   "metadata": {},
   "outputs": [],
   "source": [
    "spark_df=spark_df.withColumn('PM25',spark_df['PM25'].cast('integer'))"
   ]
  },
  {
   "cell_type": "code",
   "execution_count": 150,
   "id": "a3143370-4ed6-4312-9fa5-af8d9c7f7719",
   "metadata": {},
   "outputs": [],
   "source": [
    "spark_df=spark_df.withColumn('PM10',spark_df['PM10'].cast('integer'))\n",
    "spark_df=spark_df.withColumn('CO',spark_df['CO'].cast('integer'))"
   ]
  },
  {
   "cell_type": "code",
   "execution_count": 151,
   "id": "fbcaa0d8-848a-4f77-aaac-0f8fb815324a",
   "metadata": {},
   "outputs": [
    {
     "name": "stdout",
     "output_type": "stream",
     "text": [
      "+-----------+--------+----+----+---+-----------------------------+------------------+----------+------------------+------------+------------+----------+\n",
      "|Temperature|Humidity|PM25|PM10| CO|Proximity_to_Industrial_Areas|Population_Density|AirQuality|            NO2SO2|PM25_imputed|PM10_imputed|CO_imputed|\n",
      "+-----------+--------+----+----+---+-----------------------------+------------------+----------+------------------+------------+------------+----------+\n",
      "|       29.8|    59.1|   5|  17|  1|                          6.3|               319|  Moderate|28.099999999999998|           5|          17|         1|\n",
      "|       28.3|    75.6|   2|  12|  1|                            6|               611|  Moderate|              40.5|           2|          12|         1|\n",
      "|       23.1|    74.7|  26|  33|  1|                          5.2|               619|  Moderate|              37.0|          26|          33|         1|\n",
      "|       27.1|    39.1|   6|   6|  1|                         11.1|               551|      Good|              18.8|           6|           6|         1|\n",
      "|       26.5|    70.7|   6|  16|  1|                         12.7|               303|      Good|              27.5|           6|          16|         1|\n",
      "|       39.4|    96.6|  14|  35|  1|                          3.1|               674| Hazardous|              60.8|          14|          35|         1|\n",
      "|       41.7|    82.5|   1|  15|  1|                          4.6|               735|      Poor|              43.8|           1|          15|         1|\n",
      "|         31|    59.6|   5|  16|  1|                          6.3|               443|  Moderate|              37.8|           5|          16|         1|\n",
      "|       29.4|    93.8|  10|  22|  2|                          5.4|               486|      Poor|56.900000000000006|          10|          22|         2|\n",
      "|       33.2|    80.5|  11|  24|  1|                          4.9|               535|      Poor|              47.3|          11|          24|         1|\n",
      "|       26.3|    65.7|   1|   5|  0|                           13|               529|      Good|24.200000000000003|           1|           5|         0|\n",
      "|       32.5|    51.2|   1|  10|  1|                          5.9|               519|  Moderate|40.900000000000006|           1|          10|         1|\n",
      "|         20|    53.3|   3|  12|  1|                         10.2|               538|      Good|              32.7|           3|          12|         1|\n",
      "|       28.6|    53.7|  28|  34|  1|                           11|               508|      Good|              27.7|          28|          34|         1|\n",
      "|       22.3|    80.5|   4|  12|  1|                         10.4|               232|      Good|              23.5|           4|          12|         1|\n",
      "|         32|    78.9|  22|  29|  1|                          7.9|               444|  Moderate|              39.3|          22|          29|         1|\n",
      "|       22.9|    75.4|   4|  10|  0|                         14.4|               359|      Good|22.099999999999998|           4|          10|         0|\n",
      "|       37.6|    81.2|  28|  56|  1|                          4.1|               560|      Poor|60.400000000000006|          28|          56|         1|\n",
      "|       34.7|    59.3|   9|  15|  1|                          6.1|               437|  Moderate|              35.6|           9|          15|         1|\n",
      "|       37.8|    97.2|   0|  24|  1|                          7.7|               803|      Poor|              48.8|           0|          24|         1|\n",
      "+-----------+--------+----+----+---+-----------------------------+------------------+----------+------------------+------------+------------+----------+\n",
      "only showing top 20 rows\n",
      "\n"
     ]
    }
   ],
   "source": [
    "# Add imputation cols to df\n",
    "imputer.fit(spark_df).transform(spark_df).show()"
   ]
  },
  {
   "cell_type": "code",
   "execution_count": null,
   "id": "486c441b-41ec-402c-9ab5-d44fbea447f7",
   "metadata": {},
   "outputs": [],
   "source": [
    "#Filter operations"
   ]
  },
  {
   "cell_type": "code",
   "execution_count": 130,
   "id": "15a5f82a-763d-4c73-8b85-2bf896bac7dc",
   "metadata": {},
   "outputs": [
    {
     "name": "stdout",
     "output_type": "stream",
     "text": [
      "+-----------+--------+----+----+----+-----------------------------+------------------+----------+------------------+\n",
      "|Temperature|Humidity|PM25|PM10|  CO|Proximity_to_Industrial_Areas|Population_Density|AirQuality|            NO2SO2|\n",
      "+-----------+--------+----+----+----+-----------------------------+------------------+----------+------------------+\n",
      "|       27.1|    39.1| 6.1| 6.3|1.15|                         11.1|               551|      Good|              18.8|\n",
      "|       26.3|    65.7| 1.3| 5.5|0.85|                           13|               529|      Good|24.200000000000003|\n",
      "|       25.6|    58.3| 0.4|-0.2|0.98|                           10|               536|      Good|              29.8|\n",
      "|       26.2|    49.9| 0.5|   2|0.94|                         17.9|               581|      Good|              25.2|\n",
      "|         30|    69.2|   2| 3.9|1.09|                         10.1|               297|      Good|              20.5|\n",
      "|       29.6|    65.6| 3.4| 9.3|1.03|                         10.2|               452|      Good|              23.5|\n",
      "|       22.2|      50| 2.3| 8.4|0.96|                         10.2|               547|      Good|              27.2|\n",
      "|       37.5|    83.7| 3.1| 2.2|2.61|                          2.5|               898| Hazardous|              68.7|\n",
      "|       17.4|    56.5| 2.6| 6.9|0.92|                         11.6|               475|      Good|              24.5|\n",
      "|       18.1|    70.1| 3.1| 8.1|1.18|                         12.9|               273|      Good|              25.5|\n",
      "|       25.6|    78.1| 1.1| 5.2|0.89|                         10.9|               524|      Good|              27.4|\n",
      "|       22.4|    69.3| 2.2| 8.4|0.92|                         10.2|               339|      Good|              22.6|\n",
      "|       17.5|    73.8| 3.3| 8.8|0.83|                         10.8|               217|      Good|              24.6|\n",
      "|       26.7|    63.2| 6.8| 9.3|0.98|                           10|               358|      Good|              18.3|\n",
      "|       20.4|    44.9| 4.6| 9.2|1.03|                         10.2|               545|      Good|              26.2|\n",
      "|       26.7|    53.9| 2.9| 6.4|0.96|                         11.8|               533|      Good|              17.7|\n",
      "|         23|    50.7| 1.1|   5|1.12|                         12.4|               593|      Good|26.900000000000002|\n",
      "|       21.4|    76.9| 2.3| 6.7|1.09|                         14.7|               338|      Good|              26.2|\n",
      "|       29.3|    67.5| 1.9|   5|1.12|                           11|               576|      Good|              16.6|\n",
      "|       23.5|    51.6|   0| 8.3|0.92|                         19.7|               450|      Good|              30.9|\n",
      "+-----------+--------+----+----+----+-----------------------------+------------------+----------+------------------+\n",
      "only showing top 20 rows\n",
      "\n"
     ]
    }
   ],
   "source": [
    "spark_df.filter(\"PM10<10\").show()"
   ]
  },
  {
   "cell_type": "code",
   "execution_count": 131,
   "id": "e883a740-7f3e-4af0-bd1e-6407e644060a",
   "metadata": {},
   "outputs": [
    {
     "name": "stdout",
     "output_type": "stream",
     "text": [
      "+----+----+\n",
      "|PM10|PM25|\n",
      "+----+----+\n",
      "| 6.3| 6.1|\n",
      "| 5.5| 1.3|\n",
      "|-0.2| 0.4|\n",
      "|   2| 0.5|\n",
      "| 3.9|   2|\n",
      "| 9.3| 3.4|\n",
      "| 8.4| 2.3|\n",
      "| 2.2| 3.1|\n",
      "| 6.9| 2.6|\n",
      "| 8.1| 3.1|\n",
      "| 5.2| 1.1|\n",
      "| 8.4| 2.2|\n",
      "| 8.8| 3.3|\n",
      "| 9.3| 6.8|\n",
      "| 9.2| 4.6|\n",
      "| 6.4| 2.9|\n",
      "|   5| 1.1|\n",
      "| 6.7| 2.3|\n",
      "|   5| 1.9|\n",
      "| 8.3|   0|\n",
      "+----+----+\n",
      "only showing top 20 rows\n",
      "\n"
     ]
    }
   ],
   "source": [
    "spark_df.filter(\"PM10<10\").select(['PM10','PM25']).show()"
   ]
  },
  {
   "cell_type": "code",
   "execution_count": 134,
   "id": "c4c50ce8-3a75-4d4c-b655-accabed51c93",
   "metadata": {},
   "outputs": [
    {
     "name": "stdout",
     "output_type": "stream",
     "text": [
      "+----+----+\n",
      "|PM10|PM25|\n",
      "+----+----+\n",
      "| 6.3| 6.1|\n",
      "| 5.5| 1.3|\n",
      "|-0.2| 0.4|\n",
      "|   2| 0.5|\n",
      "| 3.9|   2|\n",
      "| 9.3| 3.4|\n",
      "| 8.4| 2.3|\n",
      "| 2.2| 3.1|\n",
      "| 6.9| 2.6|\n",
      "| 8.1| 3.1|\n",
      "| 5.2| 1.1|\n",
      "| 8.4| 2.2|\n",
      "| 8.8| 3.3|\n",
      "| 9.3| 6.8|\n",
      "| 9.2| 4.6|\n",
      "| 6.4| 2.9|\n",
      "|   5| 1.1|\n",
      "| 6.7| 2.3|\n",
      "|   5| 1.9|\n",
      "| 8.3|   0|\n",
      "+----+----+\n",
      "only showing top 20 rows\n",
      "\n"
     ]
    }
   ],
   "source": [
    "spark_df.filter((spark_df['PM10']<10) & (spark_df['PM25']<10)).select(['PM10','PM25']).show()"
   ]
  },
  {
   "cell_type": "code",
   "execution_count": 139,
   "id": "e7a4961e-e130-4151-aa06-a6e9af7ba30d",
   "metadata": {},
   "outputs": [
    {
     "name": "stdout",
     "output_type": "stream",
     "text": [
      "+-----------+--------+----+----+----+-----------------------------+------------------+----------+------------------+\n",
      "|Temperature|Humidity|PM25|PM10|  CO|Proximity_to_Industrial_Areas|Population_Density|AirQuality|            NO2SO2|\n",
      "+-----------+--------+----+----+----+-----------------------------+------------------+----------+------------------+\n",
      "|       29.8|    59.1| 5.2|17.9|1.72|                          6.3|               319|  Moderate|28.099999999999998|\n",
      "|       28.3|    75.6| 2.3|12.2|1.64|                            6|               611|  Moderate|              40.5|\n",
      "|       23.1|    74.7|26.7|33.8|1.63|                          5.2|               619|  Moderate|              37.0|\n",
      "|       26.5|    70.7| 6.9|  16|1.01|                         12.7|               303|      Good|              27.5|\n",
      "|       39.4|    96.6|14.6|35.5|1.82|                          3.1|               674| Hazardous|              60.8|\n",
      "|       41.7|    82.5| 1.7|15.8| 1.8|                          4.6|               735|      Poor|              43.8|\n",
      "|         31|    59.6|   5|16.8|1.38|                          6.3|               443|  Moderate|              37.8|\n",
      "|       29.4|    93.8|10.3|22.7|2.03|                          5.4|               486|      Poor|56.900000000000006|\n",
      "|       33.2|    80.5|11.1|24.4|1.69|                          4.9|               535|      Poor|              47.3|\n",
      "|       32.5|    51.2| 1.6|10.5|1.53|                          5.9|               519|  Moderate|40.900000000000006|\n",
      "|         20|    53.3| 3.7|12.9|1.09|                         10.2|               538|      Good|              32.7|\n",
      "|       28.6|    53.7|28.9|  34|1.02|                           11|               508|      Good|              27.7|\n",
      "|       22.3|    80.5| 4.5|  12|1.18|                         10.4|               232|      Good|              23.5|\n",
      "|         32|    78.9|22.4|29.9|1.48|                          7.9|               444|  Moderate|              39.3|\n",
      "|       22.9|    75.4| 4.5|10.4|0.96|                         14.4|               359|      Good|22.099999999999998|\n",
      "|       37.6|    81.2|28.1|56.6|1.85|                          4.1|               560|      Poor|60.400000000000006|\n",
      "|       34.7|    59.3|   9|15.7|1.52|                          6.1|               437|  Moderate|              35.6|\n",
      "|       37.8|    97.2| 0.6|24.6|1.13|                          7.7|               803|      Poor|              48.8|\n",
      "|       27.6|    44.1| 3.5|14.4|0.97|                            8|               338|  Moderate|              40.1|\n",
      "|       27.6|    77.5| 3.8|10.9|1.04|                         14.4|               520|      Good|10.799999999999999|\n",
      "+-----------+--------+----+----+----+-----------------------------+------------------+----------+------------------+\n",
      "only showing top 20 rows\n",
      "\n"
     ]
    }
   ],
   "source": [
    "spark_df.filter(~((spark_df['PM10']<10) & (spark_df['PM25']<10))).show() #not operation\n"
   ]
  },
  {
   "cell_type": "code",
   "execution_count": 141,
   "id": "225fa79f-d188-48ac-9ae1-3e921af51f85",
   "metadata": {},
   "outputs": [
    {
     "data": {
      "text/plain": [
       "DataFrame[summary: string, Temperature: string, Humidity: string, PM25: string, PM10: string, CO: string, Proximity_to_Industrial_Areas: string, Population_Density: string, AirQuality: string, NO2SO2: string]"
      ]
     },
     "execution_count": 141,
     "metadata": {},
     "output_type": "execute_result"
    }
   ],
   "source": [
    "spark_df.describe()"
   ]
  },
  {
   "cell_type": "code",
   "execution_count": 142,
   "id": "400d8187-6179-4cf5-92ac-4b8eaef21866",
   "metadata": {},
   "outputs": [
    {
     "data": {
      "text/plain": [
       "StructType([StructField('Temperature', StringType(), True), StructField('Humidity', StringType(), True), StructField('PM25', StringType(), True), StructField('PM10', StringType(), True), StructField('CO', StringType(), True), StructField('Proximity_to_Industrial_Areas', StringType(), True), StructField('Population_Density', StringType(), True), StructField('AirQuality', StringType(), True), StructField('NO2SO2', DoubleType(), True)])"
      ]
     },
     "execution_count": 142,
     "metadata": {},
     "output_type": "execute_result"
    }
   ],
   "source": [
    "spark_df.schema"
   ]
  },
  {
   "cell_type": "code",
   "execution_count": 143,
   "id": "e2cf869c-7ada-4954-ad0d-b48984d842ad",
   "metadata": {},
   "outputs": [
    {
     "name": "stdout",
     "output_type": "stream",
     "text": [
      "+-----------+--------+----+----+----+-----------------------------+------------------+----------+------------------+\n",
      "|Temperature|Humidity|PM25|PM10|  CO|Proximity_to_Industrial_Areas|Population_Density|AirQuality|            NO2SO2|\n",
      "+-----------+--------+----+----+----+-----------------------------+------------------+----------+------------------+\n",
      "|       29.8|    59.1|   5|17.9|1.72|                          6.3|               319|  Moderate|28.099999999999998|\n",
      "|       28.3|    75.6|   2|12.2|1.64|                            6|               611|  Moderate|              40.5|\n",
      "|       23.1|    74.7|  26|33.8|1.63|                          5.2|               619|  Moderate|              37.0|\n",
      "|       27.1|    39.1|   6| 6.3|1.15|                         11.1|               551|      Good|              18.8|\n",
      "|       26.5|    70.7|   6|  16|1.01|                         12.7|               303|      Good|              27.5|\n",
      "|       39.4|    96.6|  14|35.5|1.82|                          3.1|               674| Hazardous|              60.8|\n",
      "|       41.7|    82.5|   1|15.8| 1.8|                          4.6|               735|      Poor|              43.8|\n",
      "|         31|    59.6|   5|16.8|1.38|                          6.3|               443|  Moderate|              37.8|\n",
      "|       29.4|    93.8|  10|22.7|2.03|                          5.4|               486|      Poor|56.900000000000006|\n",
      "|       33.2|    80.5|  11|24.4|1.69|                          4.9|               535|      Poor|              47.3|\n",
      "|       26.3|    65.7|   1| 5.5|0.85|                           13|               529|      Good|24.200000000000003|\n",
      "|       32.5|    51.2|   1|10.5|1.53|                          5.9|               519|  Moderate|40.900000000000006|\n",
      "|         20|    53.3|   3|12.9|1.09|                         10.2|               538|      Good|              32.7|\n",
      "|       28.6|    53.7|  28|  34|1.02|                           11|               508|      Good|              27.7|\n",
      "|       22.3|    80.5|   4|  12|1.18|                         10.4|               232|      Good|              23.5|\n",
      "|         32|    78.9|  22|29.9|1.48|                          7.9|               444|  Moderate|              39.3|\n",
      "|       22.9|    75.4|   4|10.4|0.96|                         14.4|               359|      Good|22.099999999999998|\n",
      "|       37.6|    81.2|  28|56.6|1.85|                          4.1|               560|      Poor|60.400000000000006|\n",
      "|       34.7|    59.3|   9|15.7|1.52|                          6.1|               437|  Moderate|              35.6|\n",
      "|       37.8|    97.2|   0|24.6|1.13|                          7.7|               803|      Poor|              48.8|\n",
      "+-----------+--------+----+----+----+-----------------------------+------------------+----------+------------------+\n",
      "only showing top 20 rows\n",
      "\n"
     ]
    }
   ],
   "source": [
    "spark_df.withColumn('PM25',spark_df['PM25'].cast('integer')).show()"
   ]
  },
  {
   "cell_type": "code",
   "execution_count": 153,
   "id": "683b5bda-b893-4773-86a2-53be9ca4d873",
   "metadata": {},
   "outputs": [],
   "source": [
    "spark_df=spark_df.withColumn('PM25',spark_df['PM25'].cast('integer'))"
   ]
  },
  {
   "cell_type": "code",
   "execution_count": 154,
   "id": "85afb90d-6294-4bee-944f-9fa38c5029da",
   "metadata": {},
   "outputs": [
    {
     "data": {
      "text/plain": [
       "DataFrame[summary: string, Temperature: string, Humidity: string, PM25: string, PM10: string, CO: string, Proximity_to_Industrial_Areas: string, Population_Density: string, AirQuality: string, NO2SO2: string]"
      ]
     },
     "execution_count": 154,
     "metadata": {},
     "output_type": "execute_result"
    }
   ],
   "source": [
    "spark_df.describe()"
   ]
  },
  {
   "cell_type": "code",
   "execution_count": 155,
   "id": "53e711e9-1e98-44d2-b8b4-2047751ea02f",
   "metadata": {},
   "outputs": [
    {
     "name": "stdout",
     "output_type": "stream",
     "text": [
      "root\n",
      " |-- Temperature: string (nullable = true)\n",
      " |-- Humidity: string (nullable = true)\n",
      " |-- PM25: integer (nullable = true)\n",
      " |-- PM10: integer (nullable = true)\n",
      " |-- CO: integer (nullable = true)\n",
      " |-- Proximity_to_Industrial_Areas: string (nullable = true)\n",
      " |-- Population_Density: string (nullable = true)\n",
      " |-- AirQuality: string (nullable = true)\n",
      " |-- NO2SO2: double (nullable = true)\n",
      "\n"
     ]
    }
   ],
   "source": [
    "spark_df.printSchema()"
   ]
  },
  {
   "cell_type": "code",
   "execution_count": 156,
   "id": "9c79dafe-5502-4c04-bbfe-8d5d7fb6a48e",
   "metadata": {},
   "outputs": [
    {
     "name": "stdout",
     "output_type": "stream",
     "text": [
      "+----------+---------+---------+-------+------------------+\n",
      "|AirQuality|sum(PM25)|sum(PM10)|sum(CO)|       sum(NO2SO2)|\n",
      "+----------+---------+---------+-------+------------------+\n",
      "|      Good|    18919|    29098|   1047| 48966.90000000001|\n",
      "| Hazardous|    20734|    30528|   1008|30309.800000000003|\n",
      "|      Poor|    28796|    43998|   1496| 48239.79999999998|\n",
      "|  Moderate|    30011|    45243|   1506| 54618.10000000007|\n",
      "+----------+---------+---------+-------+------------------+\n",
      "\n"
     ]
    }
   ],
   "source": [
    "# grpBy and Aggregate\n",
    "spark_df.groupby('AirQuality').sum().show()"
   ]
  },
  {
   "cell_type": "code",
   "execution_count": 157,
   "id": "dd4edf58-822e-40ef-b84e-793e77e3be5b",
   "metadata": {},
   "outputs": [
    {
     "name": "stdout",
     "output_type": "stream",
     "text": [
      "+----------+-----+\n",
      "|AirQuality|count|\n",
      "+----------+-----+\n",
      "|      Good| 2000|\n",
      "| Hazardous|  500|\n",
      "|      Poor| 1000|\n",
      "|  Moderate| 1500|\n",
      "+----------+-----+\n",
      "\n"
     ]
    }
   ],
   "source": [
    "spark_df.groupby('AirQuality').count().show()"
   ]
  },
  {
   "cell_type": "code",
   "execution_count": 158,
   "id": "1ba29e6c-ee2c-4ec0-9d6b-465d85804fac",
   "metadata": {},
   "outputs": [
    {
     "name": "stdout",
     "output_type": "stream",
     "text": [
      "+----------+-----------------+---------+-------+------------------+\n",
      "|AirQuality|        avg(PM25)|avg(PM10)|avg(CO)|       avg(NO2SO2)|\n",
      "+----------+-----------------+---------+-------+------------------+\n",
      "|      Good|           9.4595|   14.549| 0.5235|24.483450000000005|\n",
      "| Hazardous|           41.468|   61.056|  2.016|60.619600000000005|\n",
      "|      Poor|           28.796|   43.998|  1.496| 48.23979999999998|\n",
      "|  Moderate|20.00733333333333|   30.162|  1.004| 36.41206666666672|\n",
      "+----------+-----------------+---------+-------+------------------+\n",
      "\n"
     ]
    }
   ],
   "source": [
    "spark_df.groupby('AirQuality').mean().show()"
   ]
  },
  {
   "cell_type": "code",
   "execution_count": 17,
   "id": "4d2b5615-7e58-4160-bfb7-529856fb73e0",
   "metadata": {},
   "outputs": [],
   "source": [
    "# asteriod collission\n",
    "class Solution:\n",
    "    def asteroidCollision(self, asteroids,n):\n",
    "        st=[]\n",
    "            \n",
    "        for ast in asteroids:\n",
    "            \n",
    "            if len(st)==0:\n",
    "                st.append(ast)\n",
    "            else:\n",
    "                last=st.pop()\n",
    "                if ast[1]==0 and last[1]==1:\n",
    "                    if abs(ast[1])>abs(last[1]):\n",
    "                        st.append([ast[1]-last[1],0])\n",
    "                    else:\n",
    "                        st.append([last[1]-ast[1],0])\n",
    "                elif ast[1]==1 and last[1]==0:\n",
    "                    st.append(last)\n",
    "                    st.append(ast)\n",
    "                    \n",
    "                else:\n",
    "                    st.append(ast)\n",
    "            print(f\"ast: {ast}  Out: {st}\")\n",
    "        return st\n"
   ]
  },
  {
   "cell_type": "code",
   "execution_count": 18,
   "id": "29ffa841-4456-4a21-920e-520bf17e5d14",
   "metadata": {},
   "outputs": [
    {
     "name": "stdout",
     "output_type": "stream",
     "text": [
      "ast: [2, 0]  Out: [[2, 0]]\n",
      "ast: [3, 1]  Out: [[2, 0], [3, 1]]\n",
      "ast: [4, 0]  Out: [[2, 0], [1, 0]]\n",
      "[[2, 0], [1, 0]]\n"
     ]
    }
   ],
   "source": [
    "sol=Solution()\n",
    "print(sol.asteroidCollision([[2,0],[3,1],[4,0]],3))"
   ]
  },
  {
   "cell_type": "code",
   "execution_count": null,
   "id": "079cc9d4-9430-4b8e-8da2-5afbe8cc828d",
   "metadata": {},
   "outputs": [],
   "source": []
  }
 ],
 "metadata": {
  "kernelspec": {
   "display_name": "Python 3 (ipykernel)",
   "language": "python",
   "name": "python3"
  },
  "language_info": {
   "codemirror_mode": {
    "name": "ipython",
    "version": 3
   },
   "file_extension": ".py",
   "mimetype": "text/x-python",
   "name": "python",
   "nbconvert_exporter": "python",
   "pygments_lexer": "ipython3",
   "version": "3.9.6"
  }
 },
 "nbformat": 4,
 "nbformat_minor": 5
}
